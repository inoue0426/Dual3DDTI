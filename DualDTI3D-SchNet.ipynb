{
 "cells": [
  {
   "cell_type": "code",
   "execution_count": 1,
   "id": "a67c14f7",
   "metadata": {},
   "outputs": [],
   "source": [
    "import torch\n",
    "import torch.optim as optim\n",
    "import torch_geometric\n",
    "from torch.nn.functional import relu, sigmoid, softmax\n",
    "from torch.nn import Linear, Module, Dropout, MSELoss, CrossEntropyLoss, BatchNorm1d\n",
    "\n",
    "from tqdm import tqdm\n",
    "\n",
    "from torch_geometric.data import Data, DataLoader\n",
    "from torch_geometric.nn import GCNConv, global_mean_pool, GATv2Conv, SchNet\n",
    "\n",
    "import pandas as pd\n",
    "\n",
    "import os\n",
    "import pickle\n",
    "import gzip\n",
    "\n",
    "os.environ['XLA_PYTHON_CLIENT_PREALLOCATE'] = 'false'\n",
    "device = 0\n",
    "device = torch.device(\"cuda:{}\".format(device) if torch.cuda.is_available() else \"cpu\")"
   ]
  },
  {
   "cell_type": "code",
   "execution_count": 2,
   "id": "d445fcf7",
   "metadata": {},
   "outputs": [],
   "source": [
    "train = pd.read_csv('kiba/train.csv', index_col=0)\n",
    "val = pd.read_csv('kiba/val.csv', index_col=0)\n",
    "test = pd.read_csv('kiba/test.csv', index_col=0)"
   ]
  },
  {
   "cell_type": "code",
   "execution_count": 3,
   "id": "a834e1f4",
   "metadata": {},
   "outputs": [
    {
     "name": "stdout",
     "output_type": "stream",
     "text": [
      "Train dim: (3449, 3)\n",
      "val dim: (494, 3)\n",
      "test dim: (973, 3)\n"
     ]
    }
   ],
   "source": [
    "print('Train dim:', train.shape)\n",
    "print('val dim:', val.shape)\n",
    "print('test dim:', test.shape)"
   ]
  },
  {
   "cell_type": "code",
   "execution_count": 4,
   "id": "0928758e",
   "metadata": {},
   "outputs": [],
   "source": [
    "with gzip.open('drug.pkl.gz', 'rb') as f:\n",
    "    drug = pickle.load(f)\n",
    "\n",
    "def get_drug_dataloader(drugs, batch_size=100):\n",
    "    dataset = [drug[i] for i in drugs]\n",
    "    return DataLoader(dataset, batch_size=batch_size)"
   ]
  },
  {
   "cell_type": "code",
   "execution_count": 5,
   "id": "567d1d2a",
   "metadata": {
    "scrolled": true
   },
   "outputs": [
    {
     "name": "stderr",
     "output_type": "stream",
     "text": [
      "/export/scratch/inoue019/envs/gpu1/lib/python3.10/site-packages/torch_geometric/deprecation.py:22: UserWarning: 'data.DataLoader' is deprecated, use 'loader.DataLoader' instead\n",
      "  warnings.warn(out)\n"
     ]
    }
   ],
   "source": [
    "batch_size = 500\n",
    "drug_train_loader = get_drug_dataloader(train['Drug'], batch_size)\n",
    "drug_val_loader = get_drug_dataloader(val['Drug'], batch_size)\n",
    "drug_test_loader = get_drug_dataloader(test['Drug'], batch_size)"
   ]
  },
  {
   "cell_type": "code",
   "execution_count": 6,
   "id": "0262f6d5",
   "metadata": {},
   "outputs": [],
   "source": [
    "class MultiHeadAttention(Module):\n",
    "    def __init__(self, hidden_dim, num_heads, dropout):\n",
    "        super(MultiHeadAttention, self).__init__()\n",
    "\n",
    "        self.hidden_dim = hidden_dim\n",
    "        self.num_heads = num_heads\n",
    "        assert hidden_dim % num_heads == 0\n",
    "\n",
    "        self.query_linear = Linear(hidden_dim, hidden_dim)\n",
    "        self.key_linear = Linear(hidden_dim, hidden_dim)\n",
    "        self.value_linear = Linear(hidden_dim, hidden_dim)\n",
    "\n",
    "        self.output_linear = Linear(hidden_dim, hidden_dim)\n",
    "        self.dropout = Dropout(dropout)\n",
    "\n",
    "        self.scale = torch.sqrt(torch.FloatTensor([hidden_dim // num_heads])).to(device)\n",
    "\n",
    "    def forward(self, query, key, value, mask=None):\n",
    "        batch_size = query.shape[0]\n",
    "\n",
    "        Q = self.query_linear(query)\n",
    "        K = self.key_linear(key)\n",
    "        V = self.value_linear(value)\n",
    "\n",
    "        Q = Q.view(batch_size, self.num_heads, -1, self.hidden_dim // self.num_heads)\n",
    "        K = K.view(batch_size, self.num_heads, -1, self.hidden_dim // self.num_heads)\n",
    "        V = V.view(batch_size, self.num_heads, -1, self.hidden_dim // self.num_heads)\n",
    "    \n",
    "        energy = torch.matmul(Q, K.transpose(-2, -1)) / self.scale\n",
    "        \n",
    "        if mask is not None:\n",
    "            energy = energy.masked_fill(mask == 0, -1e10)\n",
    "\n",
    "        attention = self.dropout(softmax(energy, dim=-1))\n",
    "\n",
    "        weighted_matrix = torch.matmul(attention, V)\n",
    "\n",
    "        weighted_matrix = weighted_matrix.permute(0, 2, 1, 3).contiguous()\n",
    "        weighted_matrix = weighted_matrix.view(batch_size, -1, self.hidden_dim)\n",
    "#         weighted_matrix = weighted_matrix.mean(dim=1)\n",
    "#         weighted_matrix = torch.max(weighted_matrix, dim=1)\n",
    "        weighted_matrix = weighted_matrix[:, 0, :]\n",
    "\n",
    "        output = self.output_linear(weighted_matrix)\n",
    "\n",
    "        return output"
   ]
  },
  {
   "cell_type": "code",
   "execution_count": 7,
   "id": "82024d23",
   "metadata": {},
   "outputs": [],
   "source": [
    "class DTIPredictor(Module):\n",
    "    def __init__(self, hidden_dim=1, num_heads=1, dropout=0.2):\n",
    "        super().__init__()\n",
    "        self.drug_encoder = SchNet()\n",
    "        self.protein_encoder = SchNet()\n",
    "        self.attention = MultiHeadAttention(hidden_dim, num_heads, dropout)\n",
    "        self.fc_output = Linear(hidden_dim*3, 1)\n",
    "\n",
    "    def forward(self, drug, protein):\n",
    "        x_drug = self.drug_encoder(drug.atom_type.long(), drug.pos.float(), drug.batch)\n",
    "        x_protein = self.protein_encoder(protein.atom_type.long(), protein.pos.float(), protein.batch)\n",
    "        attention_output = self.attention(x_drug, x_protein, x_protein)\n",
    "\n",
    "        feature = torch.cat((x_drug, attention_output, x_protein), dim=1)\n",
    "        prediction = self.fc_output(feature)\n",
    "\n",
    "        return (prediction).squeeze(1)"
   ]
  },
  {
   "cell_type": "code",
   "execution_count": 8,
   "id": "d7b0116d",
   "metadata": {},
   "outputs": [],
   "source": [
    "train = pd.read_csv('kiba/train.csv', index_col=0)\n",
    "val = pd.read_csv('kiba/val.csv', index_col=0)\n",
    "test = pd.read_csv('kiba/test.csv', index_col=0)"
   ]
  },
  {
   "cell_type": "code",
   "execution_count": 9,
   "id": "90d647be",
   "metadata": {},
   "outputs": [
    {
     "name": "stdout",
     "output_type": "stream",
     "text": [
      "Train dim: (3449, 3)\n",
      "val dim: (494, 3)\n",
      "test dim: (973, 3)\n"
     ]
    }
   ],
   "source": [
    "print('Train dim:', train.shape)\n",
    "print('val dim:', val.shape)\n",
    "print('test dim:', test.shape)"
   ]
  },
  {
   "cell_type": "code",
   "execution_count": 10,
   "id": "f49d7d24",
   "metadata": {},
   "outputs": [],
   "source": [
    "with gzip.open('drug.pkl.gz', 'rb') as f:\n",
    "    drug = pickle.load(f)\n",
    "\n",
    "def get_drug_dataloader(drugs, batch_size=100):\n",
    "    dataset = [drug[i] for i in drugs]\n",
    "    return DataLoader(dataset, batch_size=batch_size)\n",
    "\n",
    "def get_protein_dataloader(proteins, batch_size=100):\n",
    "    dataset = [torch.load('protein_graphs/{}.pt'.format(i)) for i in proteins]\n",
    "    return DataLoader(dataset, batch_size=batch_size)"
   ]
  },
  {
   "cell_type": "code",
   "execution_count": 11,
   "id": "f5352e90",
   "metadata": {},
   "outputs": [
    {
     "name": "stderr",
     "output_type": "stream",
     "text": [
      "/export/scratch/inoue019/envs/gpu1/lib/python3.10/site-packages/torch_geometric/deprecation.py:22: UserWarning: 'data.DataLoader' is deprecated, use 'loader.DataLoader' instead\n",
      "  warnings.warn(out)\n"
     ]
    }
   ],
   "source": [
    "batch_size = 100\n",
    "drug_train_loader = get_drug_dataloader(train['Drug'], batch_size)\n",
    "drug_val_loader = get_drug_dataloader(val['Drug'], batch_size)\n",
    "drug_test_loader = get_drug_dataloader(test['Drug'], batch_size)\n",
    "\n",
    "protein_train_loader = get_protein_dataloader(train['Target_ID'], batch_size)\n",
    "protein_val_loader = get_protein_dataloader(val['Target_ID'], batch_size)\n",
    "protein_test_loader = get_protein_dataloader(test['Target_ID'], batch_size)\n",
    "\n",
    "train_y = DataLoader(torch.Tensor(train['Y'].values).float(), batch_size=batch_size)\n",
    "val_y = DataLoader(torch.Tensor(val['Y'].values).float(), batch_size=batch_size)\n",
    "test_y = DataLoader(torch.Tensor(test['Y'].values).float(), batch_size=batch_size)"
   ]
  },
  {
   "cell_type": "code",
   "execution_count": 12,
   "id": "73ee2647",
   "metadata": {},
   "outputs": [
    {
     "name": "stderr",
     "output_type": "stream",
     "text": [
      "  0%|          | 0/10 [00:00<?, ?it/s]\n"
     ]
    },
    {
     "ename": "OutOfMemoryError",
     "evalue": "CUDA out of memory. Tried to allocate 3.70 GiB (GPU 0; 10.75 GiB total capacity; 9.38 GiB already allocated; 364.69 MiB free; 9.54 GiB reserved in total by PyTorch) If reserved memory is >> allocated memory try setting max_split_size_mb to avoid fragmentation.  See documentation for Memory Management and PYTORCH_CUDA_ALLOC_CONF",
     "output_type": "error",
     "traceback": [
      "\u001b[0;31m---------------------------------------------------------------------------\u001b[0m",
      "\u001b[0;31mOutOfMemoryError\u001b[0m                          Traceback (most recent call last)",
      "Cell \u001b[0;32mIn[12], line 21\u001b[0m\n\u001b[1;32m     17\u001b[0m true_y \u001b[38;5;241m=\u001b[39m true_y\u001b[38;5;241m.\u001b[39mto(device)\n\u001b[1;32m     19\u001b[0m optimizer\u001b[38;5;241m.\u001b[39mzero_grad()\n\u001b[0;32m---> 21\u001b[0m output \u001b[38;5;241m=\u001b[39m \u001b[43mmodel\u001b[49m\u001b[43m(\u001b[49m\u001b[43mdrug\u001b[49m\u001b[43m,\u001b[49m\u001b[43m \u001b[49m\u001b[43mprotein\u001b[49m\u001b[43m)\u001b[49m\n\u001b[1;32m     22\u001b[0m loss \u001b[38;5;241m=\u001b[39m criterion(output, true_y)\n\u001b[1;32m     23\u001b[0m loss\u001b[38;5;241m.\u001b[39mbackward()\n",
      "File \u001b[0;32m/export/scratch/inoue019/envs/gpu1/lib/python3.10/site-packages/torch/nn/modules/module.py:1194\u001b[0m, in \u001b[0;36mModule._call_impl\u001b[0;34m(self, *input, **kwargs)\u001b[0m\n\u001b[1;32m   1190\u001b[0m \u001b[38;5;66;03m# If we don't have any hooks, we want to skip the rest of the logic in\u001b[39;00m\n\u001b[1;32m   1191\u001b[0m \u001b[38;5;66;03m# this function, and just call forward.\u001b[39;00m\n\u001b[1;32m   1192\u001b[0m \u001b[38;5;28;01mif\u001b[39;00m \u001b[38;5;129;01mnot\u001b[39;00m (\u001b[38;5;28mself\u001b[39m\u001b[38;5;241m.\u001b[39m_backward_hooks \u001b[38;5;129;01mor\u001b[39;00m \u001b[38;5;28mself\u001b[39m\u001b[38;5;241m.\u001b[39m_forward_hooks \u001b[38;5;129;01mor\u001b[39;00m \u001b[38;5;28mself\u001b[39m\u001b[38;5;241m.\u001b[39m_forward_pre_hooks \u001b[38;5;129;01mor\u001b[39;00m _global_backward_hooks\n\u001b[1;32m   1193\u001b[0m         \u001b[38;5;129;01mor\u001b[39;00m _global_forward_hooks \u001b[38;5;129;01mor\u001b[39;00m _global_forward_pre_hooks):\n\u001b[0;32m-> 1194\u001b[0m     \u001b[38;5;28;01mreturn\u001b[39;00m \u001b[43mforward_call\u001b[49m\u001b[43m(\u001b[49m\u001b[38;5;241;43m*\u001b[39;49m\u001b[38;5;28;43minput\u001b[39;49m\u001b[43m,\u001b[49m\u001b[43m \u001b[49m\u001b[38;5;241;43m*\u001b[39;49m\u001b[38;5;241;43m*\u001b[39;49m\u001b[43mkwargs\u001b[49m\u001b[43m)\u001b[49m\n\u001b[1;32m   1195\u001b[0m \u001b[38;5;66;03m# Do not call functions when jit is used\u001b[39;00m\n\u001b[1;32m   1196\u001b[0m full_backward_hooks, non_full_backward_hooks \u001b[38;5;241m=\u001b[39m [], []\n",
      "Cell \u001b[0;32mIn[7], line 11\u001b[0m, in \u001b[0;36mDTIPredictor.forward\u001b[0;34m(self, drug, protein)\u001b[0m\n\u001b[1;32m      9\u001b[0m \u001b[38;5;28;01mdef\u001b[39;00m \u001b[38;5;21mforward\u001b[39m(\u001b[38;5;28mself\u001b[39m, drug, protein):\n\u001b[1;32m     10\u001b[0m     x_drug \u001b[38;5;241m=\u001b[39m \u001b[38;5;28mself\u001b[39m\u001b[38;5;241m.\u001b[39mdrug_encoder(drug\u001b[38;5;241m.\u001b[39matom_type\u001b[38;5;241m.\u001b[39mlong(), drug\u001b[38;5;241m.\u001b[39mpos\u001b[38;5;241m.\u001b[39mfloat(), drug\u001b[38;5;241m.\u001b[39mbatch)\n\u001b[0;32m---> 11\u001b[0m     x_protein \u001b[38;5;241m=\u001b[39m \u001b[38;5;28;43mself\u001b[39;49m\u001b[38;5;241;43m.\u001b[39;49m\u001b[43mprotein_encoder\u001b[49m\u001b[43m(\u001b[49m\u001b[43mprotein\u001b[49m\u001b[38;5;241;43m.\u001b[39;49m\u001b[43matom_type\u001b[49m\u001b[38;5;241;43m.\u001b[39;49m\u001b[43mlong\u001b[49m\u001b[43m(\u001b[49m\u001b[43m)\u001b[49m\u001b[43m,\u001b[49m\u001b[43m \u001b[49m\u001b[43mprotein\u001b[49m\u001b[38;5;241;43m.\u001b[39;49m\u001b[43mpos\u001b[49m\u001b[38;5;241;43m.\u001b[39;49m\u001b[43mfloat\u001b[49m\u001b[43m(\u001b[49m\u001b[43m)\u001b[49m\u001b[43m,\u001b[49m\u001b[43m \u001b[49m\u001b[43mprotein\u001b[49m\u001b[38;5;241;43m.\u001b[39;49m\u001b[43mbatch\u001b[49m\u001b[43m)\u001b[49m\n\u001b[1;32m     12\u001b[0m     attention_output \u001b[38;5;241m=\u001b[39m \u001b[38;5;28mself\u001b[39m\u001b[38;5;241m.\u001b[39mattention(x_drug, x_protein, x_protein)\n\u001b[1;32m     14\u001b[0m     feature \u001b[38;5;241m=\u001b[39m torch\u001b[38;5;241m.\u001b[39mcat((x_drug, attention_output, x_protein), dim\u001b[38;5;241m=\u001b[39m\u001b[38;5;241m1\u001b[39m)\n",
      "File \u001b[0;32m/export/scratch/inoue019/envs/gpu1/lib/python3.10/site-packages/torch/nn/modules/module.py:1194\u001b[0m, in \u001b[0;36mModule._call_impl\u001b[0;34m(self, *input, **kwargs)\u001b[0m\n\u001b[1;32m   1190\u001b[0m \u001b[38;5;66;03m# If we don't have any hooks, we want to skip the rest of the logic in\u001b[39;00m\n\u001b[1;32m   1191\u001b[0m \u001b[38;5;66;03m# this function, and just call forward.\u001b[39;00m\n\u001b[1;32m   1192\u001b[0m \u001b[38;5;28;01mif\u001b[39;00m \u001b[38;5;129;01mnot\u001b[39;00m (\u001b[38;5;28mself\u001b[39m\u001b[38;5;241m.\u001b[39m_backward_hooks \u001b[38;5;129;01mor\u001b[39;00m \u001b[38;5;28mself\u001b[39m\u001b[38;5;241m.\u001b[39m_forward_hooks \u001b[38;5;129;01mor\u001b[39;00m \u001b[38;5;28mself\u001b[39m\u001b[38;5;241m.\u001b[39m_forward_pre_hooks \u001b[38;5;129;01mor\u001b[39;00m _global_backward_hooks\n\u001b[1;32m   1193\u001b[0m         \u001b[38;5;129;01mor\u001b[39;00m _global_forward_hooks \u001b[38;5;129;01mor\u001b[39;00m _global_forward_pre_hooks):\n\u001b[0;32m-> 1194\u001b[0m     \u001b[38;5;28;01mreturn\u001b[39;00m \u001b[43mforward_call\u001b[49m\u001b[43m(\u001b[49m\u001b[38;5;241;43m*\u001b[39;49m\u001b[38;5;28;43minput\u001b[39;49m\u001b[43m,\u001b[49m\u001b[43m \u001b[49m\u001b[38;5;241;43m*\u001b[39;49m\u001b[38;5;241;43m*\u001b[39;49m\u001b[43mkwargs\u001b[49m\u001b[43m)\u001b[49m\n\u001b[1;32m   1195\u001b[0m \u001b[38;5;66;03m# Do not call functions when jit is used\u001b[39;00m\n\u001b[1;32m   1196\u001b[0m full_backward_hooks, non_full_backward_hooks \u001b[38;5;241m=\u001b[39m [], []\n",
      "File \u001b[0;32m/export/scratch/inoue019/envs/gpu1/lib/python3.10/site-packages/torch_geometric/nn/models/schnet.py:285\u001b[0m, in \u001b[0;36mSchNet.forward\u001b[0;34m(self, z, pos, batch)\u001b[0m\n\u001b[1;32m    283\u001b[0m h \u001b[38;5;241m=\u001b[39m \u001b[38;5;28mself\u001b[39m\u001b[38;5;241m.\u001b[39membedding(z)\n\u001b[1;32m    284\u001b[0m edge_index, edge_weight \u001b[38;5;241m=\u001b[39m \u001b[38;5;28mself\u001b[39m\u001b[38;5;241m.\u001b[39minteraction_graph(pos, batch)\n\u001b[0;32m--> 285\u001b[0m edge_attr \u001b[38;5;241m=\u001b[39m \u001b[38;5;28;43mself\u001b[39;49m\u001b[38;5;241;43m.\u001b[39;49m\u001b[43mdistance_expansion\u001b[49m\u001b[43m(\u001b[49m\u001b[43medge_weight\u001b[49m\u001b[43m)\u001b[49m\n\u001b[1;32m    287\u001b[0m \u001b[38;5;28;01mfor\u001b[39;00m interaction \u001b[38;5;129;01min\u001b[39;00m \u001b[38;5;28mself\u001b[39m\u001b[38;5;241m.\u001b[39minteractions:\n\u001b[1;32m    288\u001b[0m     h \u001b[38;5;241m=\u001b[39m h \u001b[38;5;241m+\u001b[39m interaction(h, edge_index, edge_weight, edge_attr)\n",
      "File \u001b[0;32m/export/scratch/inoue019/envs/gpu1/lib/python3.10/site-packages/torch/nn/modules/module.py:1194\u001b[0m, in \u001b[0;36mModule._call_impl\u001b[0;34m(self, *input, **kwargs)\u001b[0m\n\u001b[1;32m   1190\u001b[0m \u001b[38;5;66;03m# If we don't have any hooks, we want to skip the rest of the logic in\u001b[39;00m\n\u001b[1;32m   1191\u001b[0m \u001b[38;5;66;03m# this function, and just call forward.\u001b[39;00m\n\u001b[1;32m   1192\u001b[0m \u001b[38;5;28;01mif\u001b[39;00m \u001b[38;5;129;01mnot\u001b[39;00m (\u001b[38;5;28mself\u001b[39m\u001b[38;5;241m.\u001b[39m_backward_hooks \u001b[38;5;129;01mor\u001b[39;00m \u001b[38;5;28mself\u001b[39m\u001b[38;5;241m.\u001b[39m_forward_hooks \u001b[38;5;129;01mor\u001b[39;00m \u001b[38;5;28mself\u001b[39m\u001b[38;5;241m.\u001b[39m_forward_pre_hooks \u001b[38;5;129;01mor\u001b[39;00m _global_backward_hooks\n\u001b[1;32m   1193\u001b[0m         \u001b[38;5;129;01mor\u001b[39;00m _global_forward_hooks \u001b[38;5;129;01mor\u001b[39;00m _global_forward_pre_hooks):\n\u001b[0;32m-> 1194\u001b[0m     \u001b[38;5;28;01mreturn\u001b[39;00m \u001b[43mforward_call\u001b[49m\u001b[43m(\u001b[49m\u001b[38;5;241;43m*\u001b[39;49m\u001b[38;5;28;43minput\u001b[39;49m\u001b[43m,\u001b[49m\u001b[43m \u001b[49m\u001b[38;5;241;43m*\u001b[39;49m\u001b[38;5;241;43m*\u001b[39;49m\u001b[43mkwargs\u001b[49m\u001b[43m)\u001b[49m\n\u001b[1;32m   1195\u001b[0m \u001b[38;5;66;03m# Do not call functions when jit is used\u001b[39;00m\n\u001b[1;32m   1196\u001b[0m full_backward_hooks, non_full_backward_hooks \u001b[38;5;241m=\u001b[39m [], []\n",
      "File \u001b[0;32m/export/scratch/inoue019/envs/gpu1/lib/python3.10/site-packages/torch_geometric/nn/models/schnet.py:442\u001b[0m, in \u001b[0;36mGaussianSmearing.forward\u001b[0;34m(self, dist)\u001b[0m\n\u001b[1;32m    440\u001b[0m \u001b[38;5;28;01mdef\u001b[39;00m \u001b[38;5;21mforward\u001b[39m(\u001b[38;5;28mself\u001b[39m, dist: Tensor) \u001b[38;5;241m-\u001b[39m\u001b[38;5;241m>\u001b[39m Tensor:\n\u001b[1;32m    441\u001b[0m     dist \u001b[38;5;241m=\u001b[39m dist\u001b[38;5;241m.\u001b[39mview(\u001b[38;5;241m-\u001b[39m\u001b[38;5;241m1\u001b[39m, \u001b[38;5;241m1\u001b[39m) \u001b[38;5;241m-\u001b[39m \u001b[38;5;28mself\u001b[39m\u001b[38;5;241m.\u001b[39moffset\u001b[38;5;241m.\u001b[39mview(\u001b[38;5;241m1\u001b[39m, \u001b[38;5;241m-\u001b[39m\u001b[38;5;241m1\u001b[39m)\n\u001b[0;32m--> 442\u001b[0m     \u001b[38;5;28;01mreturn\u001b[39;00m torch\u001b[38;5;241m.\u001b[39mexp(\u001b[38;5;28;43mself\u001b[39;49m\u001b[38;5;241;43m.\u001b[39;49m\u001b[43mcoeff\u001b[49m\u001b[43m \u001b[49m\u001b[38;5;241;43m*\u001b[39;49m\u001b[43m \u001b[49m\u001b[43mtorch\u001b[49m\u001b[38;5;241;43m.\u001b[39;49m\u001b[43mpow\u001b[49m\u001b[43m(\u001b[49m\u001b[43mdist\u001b[49m\u001b[43m,\u001b[49m\u001b[43m \u001b[49m\u001b[38;5;241;43m2\u001b[39;49m\u001b[43m)\u001b[49m)\n",
      "\u001b[0;31mOutOfMemoryError\u001b[0m: CUDA out of memory. Tried to allocate 3.70 GiB (GPU 0; 10.75 GiB total capacity; 9.38 GiB already allocated; 364.69 MiB free; 9.54 GiB reserved in total by PyTorch) If reserved memory is >> allocated memory try setting max_split_size_mb to avoid fragmentation.  See documentation for Memory Management and PYTORCH_CUDA_ALLOC_CONF"
     ]
    }
   ],
   "source": [
    "model = DTIPredictor().to(device)\n",
    "criterion = MSELoss().to(device)\n",
    "optimizer = getattr(torch.optim, \"Adam\")(model.parameters(), lr=0.01,)\n",
    "\n",
    "train_losses = []\n",
    "train_accs = []\n",
    "val_losses = []\n",
    "val_accs = []\n",
    "\n",
    "for epoch in tqdm(range(10)):\n",
    "\n",
    "    model.train()\n",
    "    total_loss = 0\n",
    "    for drug, protein, true_y in zip(drug_train_loader, protein_train_loader, train_y):\n",
    "        drug = drug.to(device)\n",
    "        protein = protein.to(device)\n",
    "        true_y = true_y.to(device)\n",
    "        \n",
    "        optimizer.zero_grad()\n",
    "        \n",
    "        output = model(drug, protein)\n",
    "        loss = criterion(output, true_y)\n",
    "        loss.backward()\n",
    "        optimizer.step()\n",
    "        total_loss += loss.item()\n",
    "        \n",
    "    average_loss = total_loss / len(drug_train_loader)\n",
    "    train_losses.append(average_loss)\n",
    "    \n",
    "    model.eval()\n",
    "    with torch.no_grad():\n",
    "        val_loss = 0\n",
    "        for drug, protein, true_y in zip(drug_val_loader, protein_val_loader, val_y):\n",
    "            drug = drug.to(device)\n",
    "            protein = protein.to(device)\n",
    "            true_y = true_y.to(device)            \n",
    "            \n",
    "            output = model(drug, protein)\n",
    "            loss = criterion(output, true_y)\n",
    "            val_loss += loss.item()\n",
    "            val_losses.append(val_loss)\n",
    "\n",
    "        average_val_loss = val_loss / len(drug_val_loader)\n",
    "        val_losses.append(average_val_loss)\n",
    "    print(f'Epoch: {epoch+1}, Train loss: {average_loss:.4f}, Validation Loss: {average_val_loss:.4f}')"
   ]
  },
  {
   "cell_type": "code",
   "execution_count": null,
   "id": "07b2d00f",
   "metadata": {},
   "outputs": [],
   "source": []
  },
  {
   "cell_type": "code",
   "execution_count": null,
   "id": "53cc7483",
   "metadata": {},
   "outputs": [],
   "source": []
  },
  {
   "cell_type": "code",
   "execution_count": null,
   "id": "97d83b25",
   "metadata": {},
   "outputs": [],
   "source": []
  },
  {
   "cell_type": "code",
   "execution_count": null,
   "id": "24cdf441",
   "metadata": {},
   "outputs": [],
   "source": []
  },
  {
   "cell_type": "code",
   "execution_count": null,
   "id": "de2ed548",
   "metadata": {},
   "outputs": [],
   "source": []
  },
  {
   "cell_type": "code",
   "execution_count": null,
   "id": "9a812831",
   "metadata": {},
   "outputs": [],
   "source": []
  },
  {
   "cell_type": "code",
   "execution_count": null,
   "id": "e5fb514e",
   "metadata": {},
   "outputs": [],
   "source": []
  }
 ],
 "metadata": {
  "kernelspec": {
   "display_name": "gpu1",
   "language": "python",
   "name": "gpu1"
  },
  "language_info": {
   "codemirror_mode": {
    "name": "ipython",
    "version": 3
   },
   "file_extension": ".py",
   "mimetype": "text/x-python",
   "name": "python",
   "nbconvert_exporter": "python",
   "pygments_lexer": "ipython3",
   "version": "3.10.11"
  }
 },
 "nbformat": 4,
 "nbformat_minor": 5
}
