{
 "cells": [
  {
   "cell_type": "code",
   "execution_count": 1,
   "id": "a67c14f7",
   "metadata": {},
   "outputs": [],
   "source": [
    "import torch\n",
    "import torch.optim as optim\n",
    "import torch_geometric\n",
    "from torch.nn.functional import relu, sigmoid, softmax, mse_loss\n",
    "from torch.nn import Linear, Module, Dropout, MSELoss, CrossEntropyLoss, BatchNorm1d\n",
    "from torch.cuda.amp import autocast, GradScaler\n",
    "\n",
    "from tqdm import tqdm\n",
    "\n",
    "from torch_geometric.data import Data, DataLoader\n",
    "from torch_geometric.nn import GCNConv, global_mean_pool, GATv2Conv\n",
    "\n",
    "from SchNet import SchNet\n",
    "\n",
    "import pandas as pd\n",
    "import numpy as np\n",
    "\n",
    "import os\n",
    "import pickle\n",
    "import gzip\n",
    "\n",
    "os.environ['XLA_PYTHON_CLIENT_PREALLOCATE'] = 'false'\n",
    "device = 0\n",
    "device = torch.device(\"cuda:{}\".format(device) if torch.cuda.is_available() else \"cpu\")"
   ]
  },
  {
   "cell_type": "code",
   "execution_count": 2,
   "id": "d445fcf7",
   "metadata": {},
   "outputs": [],
   "source": [
    "train = pd.read_csv('kiba/train.csv', index_col=0)\n",
    "val = pd.read_csv('kiba/val.csv', index_col=0)\n",
    "test = pd.read_csv('kiba/test.csv', index_col=0)"
   ]
  },
  {
   "cell_type": "code",
   "execution_count": 3,
   "id": "a834e1f4",
   "metadata": {},
   "outputs": [
    {
     "name": "stdout",
     "output_type": "stream",
     "text": [
      "Train dim: (3449, 3)\n",
      "val dim: (494, 3)\n",
      "test dim: (973, 3)\n"
     ]
    }
   ],
   "source": [
    "print('Train dim:', train.shape)\n",
    "print('val dim:', val.shape)\n",
    "print('test dim:', test.shape)"
   ]
  },
  {
   "cell_type": "code",
   "execution_count": 4,
   "id": "0928758e",
   "metadata": {},
   "outputs": [],
   "source": [
    "with gzip.open('drug.pkl.gz', 'rb') as f:\n",
    "    drug = pickle.load(f)\n",
    "\n",
    "def get_drug_dataloader(drugs, batch_size=100):\n",
    "    dataset = [drug[i] for i in drugs]\n",
    "    return DataLoader(dataset, batch_size=batch_size)\n",
    "\n",
    "def get_protein_dataloader(proteins, batch_size=100):\n",
    "    dataset = [torch.load('protein_graphs/{}.pt'.format(i)) for i in proteins]\n",
    "    return DataLoader(dataset, batch_size=batch_size)"
   ]
  },
  {
   "cell_type": "code",
   "execution_count": 5,
   "id": "567d1d2a",
   "metadata": {},
   "outputs": [
    {
     "name": "stderr",
     "output_type": "stream",
     "text": [
      "/export/scratch/inoue019/envs/gpu1/lib/python3.10/site-packages/torch_geometric/deprecation.py:22: UserWarning: 'data.DataLoader' is deprecated, use 'loader.DataLoader' instead\n",
      "  warnings.warn(out)\n"
     ]
    }
   ],
   "source": [
    "batch_size = 5\n",
    "drug_train_loader = get_drug_dataloader(train['Drug'], batch_size)\n",
    "drug_val_loader = get_drug_dataloader(val['Drug'], batch_size)\n",
    "drug_test_loader = get_drug_dataloader(test['Drug'], batch_size)\n",
    "\n",
    "protein_train_loader = get_protein_dataloader(train['Target_ID'], batch_size)\n",
    "protein_val_loader = get_protein_dataloader(val['Target_ID'], batch_size)\n",
    "protein_test_loader = get_protein_dataloader(test['Target_ID'], batch_size)\n",
    "\n",
    "train_y = DataLoader(torch.Tensor(train['Y'].values).float(), batch_size=batch_size)\n",
    "val_y = DataLoader(torch.Tensor(val['Y'].values).float(), batch_size=batch_size)\n",
    "test_y = DataLoader(torch.Tensor(test['Y'].values).float(), batch_size=batch_size)"
   ]
  },
  {
   "cell_type": "code",
   "execution_count": 6,
   "id": "f32db729",
   "metadata": {},
   "outputs": [],
   "source": [
    "class MultiHeadAttention(Module):\n",
    "    def __init__(self, hidden_dim, num_heads, dropout):\n",
    "        super(MultiHeadAttention, self).__init__()\n",
    "\n",
    "        self.hidden_dim = hidden_dim\n",
    "        self.num_heads = num_heads\n",
    "        assert hidden_dim % num_heads == 0\n",
    "\n",
    "        self.query_linear = Linear(hidden_dim, hidden_dim)\n",
    "        self.key_linear = Linear(hidden_dim, hidden_dim)\n",
    "        self.value_linear = Linear(hidden_dim, hidden_dim)\n",
    "\n",
    "        self.output_linear = Linear(hidden_dim, hidden_dim)\n",
    "        self.dropout = Dropout(dropout)\n",
    "\n",
    "        self.scale = torch.sqrt(torch.FloatTensor([hidden_dim // num_heads])).to(device)\n",
    "\n",
    "    def forward(self, query, key, value, mask=None):\n",
    "        batch_size = query.shape[0]\n",
    "\n",
    "        Q = self.query_linear(query)\n",
    "        K = self.key_linear(key)\n",
    "        V = self.value_linear(value)\n",
    "\n",
    "        Q = Q.view(batch_size, self.num_heads, -1, self.hidden_dim // self.num_heads)\n",
    "        K = K.view(batch_size, self.num_heads, -1, self.hidden_dim // self.num_heads)\n",
    "        V = V.view(batch_size, self.num_heads, -1, self.hidden_dim // self.num_heads)\n",
    "    \n",
    "        energy = torch.matmul(Q, K.transpose(-2, -1)) / self.scale\n",
    "        \n",
    "        if mask is not None:\n",
    "            energy = energy.masked_fill(mask == 0, -1e10)\n",
    "\n",
    "        attention = self.dropout(softmax(energy, dim=-1)).to(torch.float16)\n",
    "\n",
    "        weighted_matrix = torch.matmul(attention, V)\n",
    "\n",
    "        weighted_matrix = weighted_matrix.permute(0, 2, 1, 3).contiguous()\n",
    "        weighted_matrix = weighted_matrix.view(batch_size, -1, self.hidden_dim)\n",
    "#         weighted_matrix = weighted_matrix.mean(dim=1)\n",
    "#         weighted_matrix = torch.max(weighted_matrix, dim=1)\n",
    "        weighted_matrix = weighted_matrix[:, 0, :]\n",
    "\n",
    "        output = self.output_linear(weighted_matrix)\n",
    "\n",
    "        return output"
   ]
  },
  {
   "cell_type": "code",
   "execution_count": 7,
   "id": "ff48cfa4",
   "metadata": {},
   "outputs": [],
   "source": [
    "class DTIPredictor(Module):\n",
    "    def __init__(self, hidden_dim=100, num_heads=1, dropout=0.2):\n",
    "        super().__init__()\n",
    "        self.drug_encoder = SchNet(out_dim=hidden_dim)\n",
    "        self.protein_encoder = SchNet(out_dim=hidden_dim)\n",
    "        self.attention = MultiHeadAttention(hidden_dim, num_heads, dropout)\n",
    "        self.fc_output = Linear(hidden_dim*3, 1)\n",
    "\n",
    "    def forward(self, drug_data, protein_data):\n",
    "        x_drug = self.drug_encoder(drug_data.atom_type.int(), drug_data.pos.to(torch.float16), drug_data.batch)\n",
    "        torch.cuda.empty_cache()\n",
    "        x_protein = self.protein_encoder(protein_data.atom_type.int(), protein_data.pos.to(torch.float16), protein_data.batch)\n",
    "        torch.cuda.empty_cache()\n",
    "        attention_output = self.attention(x_drug, x_protein, x_protein)\n",
    "        torch.cuda.empty_cache()\n",
    "\n",
    "        feature = torch.cat((x_drug, attention_output, x_protein), dim=1)\n",
    "        torch.cuda.empty_cache()\n",
    "        prediction = self.fc_output(feature)\n",
    "        torch.cuda.empty_cache()\n",
    "\n",
    "        return (prediction).squeeze(1)"
   ]
  },
  {
   "cell_type": "code",
   "execution_count": 8,
   "id": "e8ce9b35",
   "metadata": {
    "scrolled": false
   },
   "outputs": [
    {
     "name": "stderr",
     "output_type": "stream",
     "text": [
      "  0%|          | 0/10 [00:00<?, ?it/s]\n",
      "0it [00:00, ?it/s]\u001b[A\n",
      "1it [00:00,  1.24it/s]\u001b[A\n",
      "2it [00:01,  2.11it/s]\u001b[A\n",
      "3it [00:01,  2.72it/s]\u001b[A\n",
      "4it [00:01,  2.92it/s]\u001b[A\n",
      "5it [00:01,  3.38it/s]\u001b[A\n",
      "6it [00:02,  3.66it/s]\u001b[A\n",
      "7it [00:02,  3.83it/s]\u001b[A\n",
      "8it [00:02,  4.21it/s]\u001b[A\n",
      "9it [00:02,  4.38it/s]\u001b[A\n",
      "10it [00:02,  4.13it/s]\u001b[A\n",
      "11it [00:03,  4.19it/s]\u001b[A\n",
      "12it [00:03,  4.28it/s]\u001b[A\n",
      "13it [00:03,  4.56it/s]\u001b[A\n",
      "14it [00:03,  4.67it/s]\u001b[A\n",
      "15it [00:04,  4.47it/s]\u001b[A\n",
      "16it [00:04,  4.17it/s]\u001b[A\n",
      "17it [00:04,  4.37it/s]\u001b[A\n",
      "18it [00:04,  3.97it/s]\u001b[A\n",
      "19it [00:05,  3.93it/s]\u001b[A\n",
      "20it [00:05,  3.96it/s]\u001b[A\n",
      "21it [00:05,  4.39it/s]\u001b[A\n",
      "22it [00:05,  4.83it/s]\u001b[A\n",
      "23it [00:05,  5.17it/s]\u001b[A\n",
      "24it [00:06,  5.10it/s]\u001b[A\n",
      "25it [00:06,  5.48it/s]\u001b[A\n",
      "26it [00:06,  4.97it/s]\u001b[A\n",
      "27it [00:06,  4.66it/s]\u001b[A\n",
      "28it [00:06,  4.58it/s]\u001b[A\n",
      "29it [00:07,  4.66it/s]\u001b[A\n",
      "30it [00:07,  4.57it/s]\u001b[A\n",
      "31it [00:07,  4.82it/s]\u001b[A\n",
      "32it [00:07,  4.99it/s]\u001b[A\n",
      "33it [00:07,  4.80it/s]\u001b[A\n",
      "34it [00:08,  5.02it/s]\u001b[A\n",
      "35it [00:08,  5.03it/s]\u001b[A\n",
      "36it [00:08,  5.10it/s]\u001b[A\n",
      "37it [00:08,  4.40it/s]\u001b[A\n",
      "38it [00:09,  4.13it/s]\u001b[A\n",
      "39it [00:09,  4.28it/s]\u001b[A\n",
      "40it [00:09,  4.54it/s]\u001b[A\n",
      "41it [00:09,  4.94it/s]\u001b[A\n",
      "42it [00:09,  4.75it/s]\u001b[A\n",
      "43it [00:10,  4.55it/s]\u001b[A\n",
      "44it [00:10,  4.18it/s]\u001b[A\n",
      "  0%|          | 0/10 [00:10<?, ?it/s]\n"
     ]
    },
    {
     "ename": "OutOfMemoryError",
     "evalue": "CUDA out of memory. Tried to allocate 370.00 MiB (GPU 0; 10.75 GiB total capacity; 9.49 GiB already allocated; 302.69 MiB free; 9.60 GiB reserved in total by PyTorch) If reserved memory is >> allocated memory try setting max_split_size_mb to avoid fragmentation.  See documentation for Memory Management and PYTORCH_CUDA_ALLOC_CONF",
     "output_type": "error",
     "traceback": [
      "\u001b[0;31m---------------------------------------------------------------------------\u001b[0m",
      "\u001b[0;31mOutOfMemoryError\u001b[0m                          Traceback (most recent call last)",
      "Cell \u001b[0;32mIn[8], line 26\u001b[0m\n\u001b[1;32m     24\u001b[0m loss \u001b[38;5;241m=\u001b[39m criterion(output, true_y\u001b[38;5;241m.\u001b[39mto(torch\u001b[38;5;241m.\u001b[39mfloat16))\n\u001b[1;32m     25\u001b[0m torch\u001b[38;5;241m.\u001b[39mcuda\u001b[38;5;241m.\u001b[39mempty_cache()\n\u001b[0;32m---> 26\u001b[0m \u001b[43mloss\u001b[49m\u001b[38;5;241;43m.\u001b[39;49m\u001b[43mbackward\u001b[49m\u001b[43m(\u001b[49m\u001b[43m)\u001b[49m\n\u001b[1;32m     27\u001b[0m torch\u001b[38;5;241m.\u001b[39mcuda\u001b[38;5;241m.\u001b[39mempty_cache()\n\u001b[1;32m     28\u001b[0m optimizer\u001b[38;5;241m.\u001b[39mstep()\n",
      "File \u001b[0;32m/export/scratch/inoue019/envs/gpu1/lib/python3.10/site-packages/torch/_tensor.py:488\u001b[0m, in \u001b[0;36mTensor.backward\u001b[0;34m(self, gradient, retain_graph, create_graph, inputs)\u001b[0m\n\u001b[1;32m    478\u001b[0m \u001b[38;5;28;01mif\u001b[39;00m has_torch_function_unary(\u001b[38;5;28mself\u001b[39m):\n\u001b[1;32m    479\u001b[0m     \u001b[38;5;28;01mreturn\u001b[39;00m handle_torch_function(\n\u001b[1;32m    480\u001b[0m         Tensor\u001b[38;5;241m.\u001b[39mbackward,\n\u001b[1;32m    481\u001b[0m         (\u001b[38;5;28mself\u001b[39m,),\n\u001b[0;32m   (...)\u001b[0m\n\u001b[1;32m    486\u001b[0m         inputs\u001b[38;5;241m=\u001b[39minputs,\n\u001b[1;32m    487\u001b[0m     )\n\u001b[0;32m--> 488\u001b[0m \u001b[43mtorch\u001b[49m\u001b[38;5;241;43m.\u001b[39;49m\u001b[43mautograd\u001b[49m\u001b[38;5;241;43m.\u001b[39;49m\u001b[43mbackward\u001b[49m\u001b[43m(\u001b[49m\n\u001b[1;32m    489\u001b[0m \u001b[43m    \u001b[49m\u001b[38;5;28;43mself\u001b[39;49m\u001b[43m,\u001b[49m\u001b[43m \u001b[49m\u001b[43mgradient\u001b[49m\u001b[43m,\u001b[49m\u001b[43m \u001b[49m\u001b[43mretain_graph\u001b[49m\u001b[43m,\u001b[49m\u001b[43m \u001b[49m\u001b[43mcreate_graph\u001b[49m\u001b[43m,\u001b[49m\u001b[43m \u001b[49m\u001b[43minputs\u001b[49m\u001b[38;5;241;43m=\u001b[39;49m\u001b[43minputs\u001b[49m\n\u001b[1;32m    490\u001b[0m \u001b[43m\u001b[49m\u001b[43m)\u001b[49m\n",
      "File \u001b[0;32m/export/scratch/inoue019/envs/gpu1/lib/python3.10/site-packages/torch/autograd/__init__.py:197\u001b[0m, in \u001b[0;36mbackward\u001b[0;34m(tensors, grad_tensors, retain_graph, create_graph, grad_variables, inputs)\u001b[0m\n\u001b[1;32m    192\u001b[0m     retain_graph \u001b[38;5;241m=\u001b[39m create_graph\n\u001b[1;32m    194\u001b[0m \u001b[38;5;66;03m# The reason we repeat same the comment below is that\u001b[39;00m\n\u001b[1;32m    195\u001b[0m \u001b[38;5;66;03m# some Python versions print out the first line of a multi-line function\u001b[39;00m\n\u001b[1;32m    196\u001b[0m \u001b[38;5;66;03m# calls in the traceback and some print out the last line\u001b[39;00m\n\u001b[0;32m--> 197\u001b[0m \u001b[43mVariable\u001b[49m\u001b[38;5;241;43m.\u001b[39;49m\u001b[43m_execution_engine\u001b[49m\u001b[38;5;241;43m.\u001b[39;49m\u001b[43mrun_backward\u001b[49m\u001b[43m(\u001b[49m\u001b[43m  \u001b[49m\u001b[38;5;66;43;03m# Calls into the C++ engine to run the backward pass\u001b[39;49;00m\n\u001b[1;32m    198\u001b[0m \u001b[43m    \u001b[49m\u001b[43mtensors\u001b[49m\u001b[43m,\u001b[49m\u001b[43m \u001b[49m\u001b[43mgrad_tensors_\u001b[49m\u001b[43m,\u001b[49m\u001b[43m \u001b[49m\u001b[43mretain_graph\u001b[49m\u001b[43m,\u001b[49m\u001b[43m \u001b[49m\u001b[43mcreate_graph\u001b[49m\u001b[43m,\u001b[49m\u001b[43m \u001b[49m\u001b[43minputs\u001b[49m\u001b[43m,\u001b[49m\n\u001b[1;32m    199\u001b[0m \u001b[43m    \u001b[49m\u001b[43mallow_unreachable\u001b[49m\u001b[38;5;241;43m=\u001b[39;49m\u001b[38;5;28;43;01mTrue\u001b[39;49;00m\u001b[43m,\u001b[49m\u001b[43m \u001b[49m\u001b[43maccumulate_grad\u001b[49m\u001b[38;5;241;43m=\u001b[39;49m\u001b[38;5;28;43;01mTrue\u001b[39;49;00m\u001b[43m)\u001b[49m\n",
      "\u001b[0;31mOutOfMemoryError\u001b[0m: CUDA out of memory. Tried to allocate 370.00 MiB (GPU 0; 10.75 GiB total capacity; 9.49 GiB already allocated; 302.69 MiB free; 9.60 GiB reserved in total by PyTorch) If reserved memory is >> allocated memory try setting max_split_size_mb to avoid fragmentation.  See documentation for Memory Management and PYTORCH_CUDA_ALLOC_CONF"
     ]
    }
   ],
   "source": [
    "model = DTIPredictor().to(device).to(torch.float16)\n",
    "criterion = MSELoss().to(device).to(torch.float16)\n",
    "optimizer = getattr(torch.optim, \"Adam\")(model.parameters(), lr=0.01,)\n",
    "\n",
    "train_losses = []\n",
    "train_accs = []\n",
    "val_losses = []\n",
    "val_accs = []\n",
    "\n",
    "for epoch in tqdm(range(10)):\n",
    "\n",
    "    model.train()\n",
    "    total_loss = 0\n",
    "    for drug, protein, true_y in tqdm(zip(drug_train_loader, protein_train_loader, train_y)):\n",
    "        drug = drug.to(device)\n",
    "        protein = protein.to(device)\n",
    "        true_y = true_y.to(device)\n",
    "        torch.cuda.empty_cache()\n",
    "        \n",
    "        optimizer.zero_grad()\n",
    "        torch.cuda.empty_cache()\n",
    "        \n",
    "        output = model(drug, protein)\n",
    "        loss = criterion(output, true_y.to(torch.float16))\n",
    "        torch.cuda.empty_cache()\n",
    "        loss.backward()\n",
    "        torch.cuda.empty_cache()\n",
    "        optimizer.step()\n",
    "        torch.cuda.empty_cache()\n",
    "        total_loss += loss.item()\n",
    "        \n",
    "    average_loss = total_loss / len(drug_train_loader)\n",
    "    train_losses.append(average_loss)\n",
    "    \n",
    "    model.eval()\n",
    "    with torch.no_grad():\n",
    "        val_loss = 0\n",
    "        for drug, protein, true_y in zip(drug_val_loader, protein_val_loader, val_y):\n",
    "            drug = drug.to(device)\n",
    "            protein = protein.to(device)\n",
    "            true_y = true_y.to(device)            \n",
    "            \n",
    "            print(drug.shape)\n",
    "            \n",
    "            output = model(drug, protein)\n",
    "            loss = criterion(output, true_y.to(torch.float16))\n",
    "            val_loss += loss.item()\n",
    "            val_losses.append(val_loss)\n",
    "\n",
    "        average_val_loss = val_loss / len(drug_val_loader)\n",
    "        val_losses.append(average_val_loss)\n",
    "    print(f'Epoch: {epoch+1}, Train loss: {average_loss:.4f}, Validation Loss: {average_val_loss:.4f}')"
   ]
  },
  {
   "cell_type": "code",
   "execution_count": null,
   "id": "3381e721",
   "metadata": {},
   "outputs": [],
   "source": [
    "model.eval()\n",
    "pred = []\n",
    "with torch.no_grad():\n",
    "    test_loss = 0\n",
    "    for drug, protein, true_y in zip(drug_test_loader, protein_test_loader, test_y):\n",
    "        drug = drug.to(device)\n",
    "        protein = protein.to(device)\n",
    "        true_y = true_y.to(device)            \n",
    "\n",
    "        output = model(drug, protein)\n",
    "        loss = criterion(output, true_y)\n",
    "        test_loss += loss.item()\n",
    "        pred.append(output.cpu().detach().numpy()) \n",
    "        \n",
    "pred = np.concatenate(pred)"
   ]
  },
  {
   "cell_type": "code",
   "execution_count": null,
   "id": "0a784c14",
   "metadata": {},
   "outputs": [],
   "source": [
    "mse_loss(torch.Tensor(pred), torch.Tensor(np.array(test['Y'])))"
   ]
  },
  {
   "cell_type": "code",
   "execution_count": null,
   "id": "f10688cc",
   "metadata": {},
   "outputs": [],
   "source": []
  }
 ],
 "metadata": {
  "kernelspec": {
   "display_name": "gpu1",
   "language": "python",
   "name": "gpu1"
  },
  "language_info": {
   "codemirror_mode": {
    "name": "ipython",
    "version": 3
   },
   "file_extension": ".py",
   "mimetype": "text/x-python",
   "name": "python",
   "nbconvert_exporter": "python",
   "pygments_lexer": "ipython3",
   "version": "3.10.11"
  }
 },
 "nbformat": 4,
 "nbformat_minor": 5
}
