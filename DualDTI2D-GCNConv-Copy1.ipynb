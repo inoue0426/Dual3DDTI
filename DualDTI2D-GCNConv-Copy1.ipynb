{
 "cells": [
  {
   "cell_type": "code",
   "execution_count": 1,
   "id": "increased-money",
   "metadata": {},
   "outputs": [],
   "source": [
    "import torch\n",
    "import torch.optim as optim\n",
    "import torch_geometric\n",
    "from torch.nn.functional import relu, sigmoid, softmax, mse_loss\n",
    "from torch.nn import Linear, Module, Dropout, MSELoss, CrossEntropyLoss, BatchNorm1d\n",
    "\n",
    "from tqdm import tqdm\n",
    "\n",
    "from torch_geometric.data import Data, DataLoader\n",
    "from torch_geometric.nn import GCNConv, global_mean_pool, GATv2Conv, SchNet\n",
    "\n",
    "import pandas as pd\n",
    "import numpy as np\n",
    "\n",
    "import os\n",
    "import pickle\n",
    "import gzip\n",
    "\n",
    "os.environ['XLA_PYTHON_CLIENT_PREALLOCATE'] = 'false'\n",
    "device = 0\n",
    "device = torch.device(\"cuda:{}\".format(device) if torch.cuda.is_available() else \"cpu\")"
   ]
  },
  {
   "cell_type": "code",
   "execution_count": 2,
   "id": "signed-activation",
   "metadata": {},
   "outputs": [],
   "source": [
    "class MultiHeadAttention(Module):\n",
    "    def __init__(self, hidden_dim, num_heads, dropout):\n",
    "        super(MultiHeadAttention, self).__init__()\n",
    "\n",
    "        self.hidden_dim = hidden_dim\n",
    "        self.num_heads = num_heads\n",
    "        assert hidden_dim % num_heads == 0\n",
    "\n",
    "        self.query_linear = Linear(hidden_dim, hidden_dim)\n",
    "        self.key_linear = Linear(hidden_dim, hidden_dim)\n",
    "        self.value_linear = Linear(hidden_dim, hidden_dim)\n",
    "\n",
    "        self.output_linear = Linear(hidden_dim, hidden_dim)\n",
    "        self.dropout = Dropout(dropout)\n",
    "\n",
    "        self.scale = torch.sqrt(torch.FloatTensor([hidden_dim // num_heads])).to(device)\n",
    "\n",
    "    def forward(self, query, key, value, mask=None):\n",
    "        batch_size = query.shape[0]\n",
    "\n",
    "        Q = self.query_linear(query)\n",
    "        K = self.key_linear(key)\n",
    "        V = self.value_linear(value)\n",
    "\n",
    "        Q = Q.view(batch_size, self.num_heads, -1, self.hidden_dim // self.num_heads)\n",
    "        K = K.view(batch_size, self.num_heads, -1, self.hidden_dim // self.num_heads)\n",
    "        V = V.view(batch_size, self.num_heads, -1, self.hidden_dim // self.num_heads)\n",
    "    \n",
    "        energy = torch.matmul(Q, K.transpose(-2, -1)) / self.scale\n",
    "        \n",
    "        if mask is not None:\n",
    "            energy = energy.masked_fill(mask == 0, -1e10)\n",
    "\n",
    "        attention = self.dropout(softmax(energy, dim=-1))\n",
    "\n",
    "        weighted_matrix = torch.matmul(attention, V)\n",
    "\n",
    "        weighted_matrix = weighted_matrix.permute(0, 2, 1, 3).contiguous()\n",
    "        weighted_matrix = weighted_matrix.view(batch_size, -1, self.hidden_dim)\n",
    "#         weighted_matrix = weighted_matrix.mean(dim=1)\n",
    "#         weighted_matrix = torch.max(weighted_matrix, dim=1)\n",
    "        weighted_matrix = weighted_matrix[:, 0, :]\n",
    "\n",
    "        output = self.output_linear(weighted_matrix)\n",
    "\n",
    "        return output"
   ]
  },
  {
   "cell_type": "code",
   "execution_count": 3,
   "id": "animal-ordering",
   "metadata": {},
   "outputs": [],
   "source": [
    "class DTIPredictor(Module):\n",
    "    def __init__(self, hidden_dim=1, num_heads=1, dropout=0.2):\n",
    "        super().__init__()\n",
    "        self.drug_encoder = SchNet()\n",
    "        self.protein_encoder = SchNet()\n",
    "        self.attention = MultiHeadAttention(hidden_dim, num_heads, dropout)\n",
    "        self.fc_output = Linear(hidden_dim*3, 1)\n",
    "\n",
    "    def forward(self, drug_data, protein_data):\n",
    "        x_drug = self.drug_encoder(drug_data.atom_type.int(), drug_data.pos.float(), drug_data.batch)\n",
    "        x_protein = self.protein_encoder(protein_data.atom_type.int(), protein_data.pos.float(), protein_data.batch)\n",
    "        attention_output = self.attention(x_drug, x_protein, x_protein)\n",
    "\n",
    "        feature = torch.cat((x_drug, attention_output, x_protein), dim=1)\n",
    "        prediction = self.fc_output(feature)\n",
    "\n",
    "        return (prediction).squeeze(1)"
   ]
  },
  {
   "cell_type": "code",
   "execution_count": 4,
   "id": "declared-wilderness",
   "metadata": {},
   "outputs": [],
   "source": [
    "train = pd.read_csv('kiba/train.csv', index_col=0)\n",
    "val = pd.read_csv('kiba/val.csv', index_col=0)\n",
    "test = pd.read_csv('kiba/test.csv', index_col=0)"
   ]
  },
  {
   "cell_type": "code",
   "execution_count": 5,
   "id": "varied-indonesian",
   "metadata": {},
   "outputs": [
    {
     "name": "stdout",
     "output_type": "stream",
     "text": [
      "Train dim: (3449, 3)\n",
      "val dim: (494, 3)\n",
      "test dim: (973, 3)\n"
     ]
    }
   ],
   "source": [
    "print('Train dim:', train.shape)\n",
    "print('val dim:', val.shape)\n",
    "print('test dim:', test.shape)"
   ]
  },
  {
   "cell_type": "code",
   "execution_count": 6,
   "id": "congressional-participation",
   "metadata": {},
   "outputs": [],
   "source": [
    "with gzip.open('drug.pkl.gz', 'rb') as f:\n",
    "    drug = pickle.load(f)\n",
    "\n",
    "def get_drug_dataloader(drugs, batch_size=100):\n",
    "    dataset = [drug[i] for i in drugs]\n",
    "    return DataLoader(dataset, batch_size=batch_size)\n",
    "\n",
    "def get_protein_dataloader(proteins, batch_size=100):\n",
    "    dataset = [torch.load('protein_graphs/{}.pt'.format(i)) for i in proteins]\n",
    "    return DataLoader(dataset, batch_size=batch_size)"
   ]
  },
  {
   "cell_type": "code",
   "execution_count": 7,
   "id": "norwegian-inspection",
   "metadata": {},
   "outputs": [
    {
     "name": "stderr",
     "output_type": "stream",
     "text": [
      "/home/kuangr/inoue019/.conda/envs/py39/lib/python3.9/site-packages/torch_geometric/deprecation.py:22: UserWarning: 'data.DataLoader' is deprecated, use 'loader.DataLoader' instead\n",
      "  warnings.warn(out)\n"
     ]
    }
   ],
   "source": [
    "batch_size = 10\n",
    "drug_train_loader = get_drug_dataloader(train['Drug'], batch_size)\n",
    "drug_val_loader = get_drug_dataloader(val['Drug'], batch_size)\n",
    "drug_test_loader = get_drug_dataloader(test['Drug'], batch_size)\n",
    "\n",
    "protein_train_loader = get_protein_dataloader(train['Target_ID'], batch_size)\n",
    "protein_val_loader = get_protein_dataloader(val['Target_ID'], batch_size)\n",
    "protein_test_loader = get_protein_dataloader(test['Target_ID'], batch_size)\n",
    "\n",
    "train_y = DataLoader(torch.Tensor(train['Y'].values).float(), batch_size=batch_size)\n",
    "val_y = DataLoader(torch.Tensor(val['Y'].values).float(), batch_size=batch_size)\n",
    "test_y = DataLoader(torch.Tensor(test['Y'].values).float(), batch_size=batch_size)"
   ]
  },
  {
   "cell_type": "code",
   "execution_count": null,
   "id": "determined-capability",
   "metadata": {
    "scrolled": true
   },
   "outputs": [
    {
     "name": "stderr",
     "output_type": "stream",
     "text": [
      " 10%|█         | 1/10 [03:15<29:18, 195.43s/it]"
     ]
    },
    {
     "name": "stdout",
     "output_type": "stream",
     "text": [
      "Epoch: 1, Train loss: 9704670802872118097739776.0000, Validation Loss: 11995704253833604329635840.0000\n"
     ]
    },
    {
     "name": "stderr",
     "output_type": "stream",
     "text": [
      " 20%|██        | 2/10 [06:23<25:29, 191.18s/it]"
     ]
    },
    {
     "name": "stdout",
     "output_type": "stream",
     "text": [
      "Epoch: 2, Train loss: 13426422195643830272786432.0000, Validation Loss: 15818842126724574088265728.0000\n"
     ]
    },
    {
     "name": "stderr",
     "output_type": "stream",
     "text": [
      " 30%|███       | 3/10 [09:31<22:08, 189.85s/it]"
     ]
    },
    {
     "name": "stdout",
     "output_type": "stream",
     "text": [
      "Epoch: 3, Train loss: 15072883498246984442052608.0000, Validation Loss: 16410428067776149590114304.0000\n"
     ]
    },
    {
     "name": "stderr",
     "output_type": "stream",
     "text": [
      " 40%|████      | 4/10 [12:42<19:01, 190.32s/it]"
     ]
    },
    {
     "name": "stdout",
     "output_type": "stream",
     "text": [
      "Epoch: 4, Train loss: 15424129192380555203706880.0000, Validation Loss: 16313776548198604091686912.0000\n"
     ]
    },
    {
     "name": "stderr",
     "output_type": "stream",
     "text": [
      " 50%|█████     | 5/10 [15:54<15:53, 190.74s/it]"
     ]
    },
    {
     "name": "stdout",
     "output_type": "stream",
     "text": [
      "Epoch: 5, Train loss: 15333454150872954572898304.0000, Validation Loss: 16241786953471018382917632.0000\n"
     ]
    },
    {
     "name": "stderr",
     "output_type": "stream",
     "text": [
      " 60%|██████    | 6/10 [19:03<12:41, 190.31s/it]"
     ]
    },
    {
     "name": "stdout",
     "output_type": "stream",
     "text": [
      "Epoch: 6, Train loss: 15265825856519578104889344.0000, Validation Loss: 16173818864243651387588608.0000\n"
     ]
    },
    {
     "name": "stderr",
     "output_type": "stream",
     "text": [
      " 70%|███████   | 7/10 [22:14<09:30, 190.33s/it]"
     ]
    },
    {
     "name": "stdout",
     "output_type": "stream",
     "text": [
      "Epoch: 7, Train loss: 15200319444435324029108224.0000, Validation Loss: 16106919441017334484959232.0000\n"
     ]
    },
    {
     "name": "stderr",
     "output_type": "stream",
     "text": [
      " 80%|████████  | 8/10 [25:24<06:20, 190.25s/it]"
     ]
    },
    {
     "name": "stdout",
     "output_type": "stream",
     "text": [
      "Epoch: 8, Train loss: 15137775209762522715389952.0000, Validation Loss: 16044476970214310654509056.0000\n"
     ]
    }
   ],
   "source": [
    "model = DTIPredictor().to(device)\n",
    "criterion = MSELoss().to(device)\n",
    "optimizer = getattr(torch.optim, \"Adam\")(model.parameters(), lr=0.01,)\n",
    "\n",
    "train_losses = []\n",
    "train_accs = []\n",
    "val_losses = []\n",
    "val_accs = []\n",
    "\n",
    "for epoch in tqdm(range(10)):\n",
    "\n",
    "    model.train()\n",
    "    total_loss = 0\n",
    "    for drug, protein, true_y in zip(drug_train_loader, protein_train_loader, train_y):\n",
    "        drug = drug.to(device)\n",
    "        protein = protein.to(device)\n",
    "        true_y = true_y.to(device)\n",
    "        \n",
    "        optimizer.zero_grad()\n",
    "        \n",
    "        output = model(drug, protein)\n",
    "        loss = criterion(output, true_y)\n",
    "        loss.backward()\n",
    "        optimizer.step()\n",
    "        total_loss += loss.item()\n",
    "        \n",
    "    average_loss = total_loss / len(drug_train_loader)\n",
    "    train_losses.append(average_loss)\n",
    "    \n",
    "    model.eval()\n",
    "    with torch.no_grad():\n",
    "        val_loss = 0\n",
    "        for drug, protein, true_y in zip(drug_val_loader, protein_val_loader, val_y):\n",
    "            drug = drug.to(device)\n",
    "            protein = protein.to(device)\n",
    "            true_y = true_y.to(device)            \n",
    "            \n",
    "            output = model(drug, protein)\n",
    "            loss = criterion(output, true_y)\n",
    "            val_loss += loss.item()\n",
    "            val_losses.append(val_loss)\n",
    "\n",
    "        average_val_loss = val_loss / len(drug_val_loader)\n",
    "        val_losses.append(average_val_loss)\n",
    "    print(f'Epoch: {epoch+1}, Train loss: {average_loss:.4f}, Validation Loss: {average_val_loss:.4f}')"
   ]
  },
  {
   "cell_type": "code",
   "execution_count": null,
   "id": "powered-benefit",
   "metadata": {},
   "outputs": [],
   "source": [
    "model.eval()\n",
    "pred = []\n",
    "with torch.no_grad():\n",
    "    test_loss = 0\n",
    "    for drug, protein, true_y in zip(drug_test_loader, protein_test_loader, test_y):\n",
    "        drug = drug.to(device)\n",
    "        protein = protein.to(device)\n",
    "        true_y = true_y.to(device)            \n",
    "\n",
    "        output = model(drug, protein)\n",
    "        loss = criterion(output, true_y)\n",
    "        test_loss += loss.item()\n",
    "        pred.append(output.cpu().detach().numpy()) \n",
    "        \n",
    "pred = np.concatenate(pred)"
   ]
  },
  {
   "cell_type": "code",
   "execution_count": null,
   "id": "convertible-federal",
   "metadata": {},
   "outputs": [],
   "source": [
    "mse_loss(torch.Tensor(pred), torch.Tensor(np.array(test['Y'])))"
   ]
  },
  {
   "cell_type": "code",
   "execution_count": null,
   "id": "trying-tours",
   "metadata": {},
   "outputs": [],
   "source": []
  },
  {
   "cell_type": "code",
   "execution_count": null,
   "id": "prerequisite-league",
   "metadata": {},
   "outputs": [],
   "source": []
  },
  {
   "cell_type": "code",
   "execution_count": null,
   "id": "mighty-transfer",
   "metadata": {},
   "outputs": [],
   "source": []
  },
  {
   "cell_type": "code",
   "execution_count": null,
   "id": "written-basic",
   "metadata": {},
   "outputs": [],
   "source": []
  }
 ],
 "metadata": {
  "kernelspec": {
   "display_name": "py39",
   "language": "python",
   "name": "py39"
  },
  "language_info": {
   "codemirror_mode": {
    "name": "ipython",
    "version": 3
   },
   "file_extension": ".py",
   "mimetype": "text/x-python",
   "name": "python",
   "nbconvert_exporter": "python",
   "pygments_lexer": "ipython3",
   "version": "3.9.17"
  }
 },
 "nbformat": 4,
 "nbformat_minor": 5
}
