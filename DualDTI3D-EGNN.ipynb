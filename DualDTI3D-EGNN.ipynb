{
 "cells": [
  {
   "cell_type": "code",
   "execution_count": 1,
   "id": "based-evidence",
   "metadata": {},
   "outputs": [],
   "source": [
    "import torch\n",
    "import torch.optim as optim\n",
    "import torch_geometric\n",
    "from torch.nn.functional import relu, sigmoid, softmax, mse_loss\n",
    "from torch.nn import Linear, Module, Dropout, MSELoss, CrossEntropyLoss, BatchNorm1d\n",
    "\n",
    "from tqdm import tqdm\n",
    "\n",
    "from torch_geometric.data import Data, DataLoader\n",
    "from torch_geometric.nn import GCNConv, global_mean_pool, GATv2Conv\n",
    "from egnn_pytorch import EGNN\n",
    "\n",
    "import pandas as pd\n",
    "import numpy as np\n",
    "\n",
    "import os\n",
    "import pickle\n",
    "import gzip\n",
    "\n",
    "os.environ['XLA_PYTHON_CLIENT_PREALLOCATE'] = 'false'\n",
    "device = 0\n",
    "device = torch.device(\"cuda:{}\".format(device) if torch.cuda.is_available() else \"cpu\")"
   ]
  },
  {
   "cell_type": "code",
   "execution_count": 2,
   "id": "textile-jackson",
   "metadata": {},
   "outputs": [],
   "source": [
    "train = pd.read_csv('kiba/train.csv', index_col=0)\n",
    "val = pd.read_csv('kiba/val.csv', index_col=0)\n",
    "test = pd.read_csv('kiba/test.csv', index_col=0)"
   ]
  },
  {
   "cell_type": "code",
   "execution_count": 3,
   "id": "wired-panama",
   "metadata": {},
   "outputs": [
    {
     "name": "stdout",
     "output_type": "stream",
     "text": [
      "Train dim: (3449, 3)\n",
      "val dim: (494, 3)\n",
      "test dim: (973, 3)\n"
     ]
    }
   ],
   "source": [
    "print('Train dim:', train.shape)\n",
    "print('val dim:', val.shape)\n",
    "print('test dim:', test.shape)"
   ]
  },
  {
   "cell_type": "code",
   "execution_count": 4,
   "id": "short-fleet",
   "metadata": {},
   "outputs": [],
   "source": [
    "with gzip.open('drug.pkl.gz', 'rb') as f:\n",
    "    drug = pickle.load(f)\n",
    "\n",
    "def get_drug_dataloader(drugs, batch_size=100):\n",
    "    dataset = [drug[i] for i in drugs]\n",
    "    return DataLoader(dataset, batch_size=batch_size)\n",
    "\n",
    "def get_protein_dataloader(proteins, batch_size=100):\n",
    "    dataset = [torch.load('protein_graphs/{}.pt'.format(i)) for i in proteins]\n",
    "    return DataLoader(dataset, batch_size=batch_size)"
   ]
  },
  {
   "cell_type": "code",
   "execution_count": 5,
   "id": "empty-reproduction",
   "metadata": {},
   "outputs": [
    {
     "name": "stderr",
     "output_type": "stream",
     "text": [
      "/home/kuangr/inoue019/.conda/envs/py39/lib/python3.9/site-packages/torch_geometric/deprecation.py:22: UserWarning: 'data.DataLoader' is deprecated, use 'loader.DataLoader' instead\n",
      "  warnings.warn(out)\n"
     ]
    }
   ],
   "source": [
    "batch_size = 1\n",
    "drug_train_loader = get_drug_dataloader(train['Drug'], batch_size)\n",
    "drug_val_loader = get_drug_dataloader(val['Drug'], batch_size)\n",
    "drug_test_loader = get_drug_dataloader(test['Drug'], batch_size)\n",
    "\n",
    "protein_train_loader = get_protein_dataloader(train['Target_ID'], batch_size)\n",
    "protein_val_loader = get_protein_dataloader(val['Target_ID'], batch_size)\n",
    "protein_test_loader = get_protein_dataloader(test['Target_ID'], batch_size)\n",
    "\n",
    "train_y = DataLoader(torch.Tensor(train['Y'].values).float(), batch_size=batch_size)\n",
    "val_y = DataLoader(torch.Tensor(val['Y'].values).float(), batch_size=batch_size)\n",
    "test_y = DataLoader(torch.Tensor(test['Y'].values).float(), batch_size=batch_size)"
   ]
  },
  {
   "cell_type": "code",
   "execution_count": 6,
   "id": "crucial-liquid",
   "metadata": {
    "scrolled": true
   },
   "outputs": [],
   "source": [
    "for drug, protein, true_y in zip(drug_train_loader, protein_train_loader, train_y):\n",
    "    drug = drug.to(device)\n",
    "    protein = protein.to(device)\n",
    "    true_y = true_y.to(device)\n",
    "    break"
   ]
  },
  {
   "cell_type": "code",
   "execution_count": 7,
   "id": "perceived-shelf",
   "metadata": {
    "scrolled": true
   },
   "outputs": [],
   "source": [
    "layer1 = EGNN(dim = 5).to(device)\n",
    "layer2 = EGNN(dim = 5).to(device)\n",
    "\n",
    "feats, coors = layer1(\n",
    "    protein.x.view(1, len(protein.x), 5), \n",
    "    protein.pos.view(1, len(protein.pos), 3).float()\n",
    ")\n",
    "feats, coors = layer2(feats, coors)"
   ]
  },
  {
   "cell_type": "code",
   "execution_count": null,
   "id": "absent-hawaii",
   "metadata": {},
   "outputs": [],
   "source": [
    "protein.x.view(1, len(protein.x), 5).shape"
   ]
  },
  {
   "cell_type": "code",
   "execution_count": null,
   "id": "restricted-madrid",
   "metadata": {},
   "outputs": [],
   "source": [
    "protein.pos.view(1, len(protein.pos), 3).float().shape"
   ]
  },
  {
   "cell_type": "code",
   "execution_count": null,
   "id": "modified-composition",
   "metadata": {},
   "outputs": [],
   "source": [
    "n = max(drug.edge_index[1])+1\n",
    "adj_matrix = torch.zeros(n, n, len(drug.edge_attr[0]))\n",
    "\n",
    "for i in range(drug.edge_index.shape[1]):\n",
    "    src = drug.edge_index[0, i]\n",
    "    dest = drug.edge_index[1, i]\n",
    "    adj_matrix[src, dest] = drug.edge_attr[i]\n",
    "    adj_matrix[dest, src] = drug.edge_attr[i]"
   ]
  },
  {
   "cell_type": "code",
   "execution_count": null,
   "id": "classical-grove",
   "metadata": {},
   "outputs": [],
   "source": [
    "layer1 = EGNN(dim = 5, edge_dim=2)\n",
    "layer2 = EGNN(dim = 5, edge_dim=2)"
   ]
  },
  {
   "cell_type": "code",
   "execution_count": null,
   "id": "expected-destruction",
   "metadata": {
    "scrolled": true
   },
   "outputs": [],
   "source": [
    "feats, coors = layer1(\n",
    "    drug.x.view(1, len(drug.x), 5).to('cpu'), \n",
    "    drug.pos.view(1, len(drug.pos), 3).to('cpu').float(), \n",
    "    adj_matrix.view(1, len(drug.pos), len(drug.pos), 2)\n",
    ")\n",
    "feats"
   ]
  },
  {
   "cell_type": "code",
   "execution_count": null,
   "id": "banned-prize",
   "metadata": {},
   "outputs": [],
   "source": [
    "feats, coors = layer2(feats, coors, adj_matrix.view(1, len(drug.pos), len(drug.pos), 2))\n",
    "feats"
   ]
  },
  {
   "cell_type": "code",
   "execution_count": null,
   "id": "provincial-scoop",
   "metadata": {},
   "outputs": [],
   "source": [
    "coors"
   ]
  },
  {
   "cell_type": "code",
   "execution_count": null,
   "id": "african-commission",
   "metadata": {},
   "outputs": [],
   "source": []
  }
 ],
 "metadata": {
  "kernelspec": {
   "display_name": "py39",
   "language": "python",
   "name": "py39"
  },
  "language_info": {
   "codemirror_mode": {
    "name": "ipython",
    "version": 3
   },
   "file_extension": ".py",
   "mimetype": "text/x-python",
   "name": "python",
   "nbconvert_exporter": "python",
   "pygments_lexer": "ipython3",
   "version": "3.9.17"
  }
 },
 "nbformat": 4,
 "nbformat_minor": 5
}
