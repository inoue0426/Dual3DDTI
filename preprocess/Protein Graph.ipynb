{
 "cells": [
  {
   "cell_type": "code",
   "execution_count": 3,
   "id": "448e8466",
   "metadata": {},
   "outputs": [],
   "source": [
    "import pandas as pd\n",
    "import numpy as np\n",
    "import torch\n",
    "import networkx as nx\n",
    "import pickle\n",
    "import matplotlib.pyplot as plt\n",
    "\n",
    "import Bio.PDB\n",
    "\n",
    "# Initialize a PDB parser\n",
    "pdb_parser = Bio.PDB.PDBParser()\n",
    "\n",
    "from biopandas.pdb import PandasPdb\n",
    "from torch_geometric.data import Data\n",
    "from torch_geometric.utils import convert\n",
    "from rdkit import Chem\n",
    "from rdkit.Chem import AllChem\n",
    "from torchdrug import data, utils\n",
    "from graphein.protein.graphs import construct_graph\n",
    "from tqdm import tqdm"
   ]
  },
  {
   "cell_type": "code",
   "execution_count": 4,
   "id": "32a5df1a-f49c-49bb-8a32-e0151d1c28ee",
   "metadata": {},
   "outputs": [
    {
     "name": "stderr",
     "output_type": "stream",
     "text": [
      "/var/folders/s4/6xgylm7x3yzgfsk6sbvk_7_c0000gn/T/ipykernel_36237/2973308950.py:24: UserWarning: Matplotlib is currently using agg, which is a non-GUI backend, so cannot show the figure.\n",
      "  plt.show()\n"
     ]
    }
   ],
   "source": [
    "structure = pdb_parser.get_structure('protein_structure', '../pdb/A0A024RBG1.pdb')\n",
    "\n",
    "# Extracting coordinates for 3D plotting\n",
    "atom_coords = []\n",
    "for model in structure:\n",
    "    for chain in model:\n",
    "        for residue in chain:\n",
    "            for atom in residue:\n",
    "                if atom.get_name() == \"CA\":  # Using alpha carbon atoms for simplicity\n",
    "                    atom_coords.append(atom.get_coord())\n",
    "\n",
    "# Converting to numpy array for easier handling\n",
    "atom_coords = np.array(atom_coords)\n",
    "\n",
    "# Plotting the 3D structure\n",
    "fig = plt.figure(figsize=(10, 8))\n",
    "ax = fig.add_subplot(111, projection='3d')\n",
    "ax.plot(atom_coords[:,0], atom_coords[:,1], atom_coords[:,2], color='blue', linewidth=0.5)\n",
    "ax.scatter(atom_coords[:,0], atom_coords[:,1], atom_coords[:,2], color='red', s=10)\n",
    "ax.set_title('3D Structure of the Protein')\n",
    "ax.set_xlabel('X Axis')\n",
    "ax.set_ylabel('Y Axis')\n",
    "ax.set_zlabel('Z Axis')\n",
    "plt.show()"
   ]
  },
  {
   "cell_type": "code",
   "execution_count": null,
   "id": "1355fba1-b358-4597-bac7-8ba08d6dd041",
   "metadata": {},
   "outputs": [],
   "source": []
  },
  {
   "cell_type": "code",
   "execution_count": null,
   "id": "9de4f38a-4910-42c2-94d4-0f0d01d041ad",
   "metadata": {},
   "outputs": [],
   "source": []
  },
  {
   "cell_type": "code",
   "execution_count": null,
   "id": "d9972e8f-cef2-486a-9532-3b8774ede215",
   "metadata": {},
   "outputs": [],
   "source": []
  },
  {
   "cell_type": "code",
   "execution_count": 2,
   "id": "74ddd58a",
   "metadata": {},
   "outputs": [],
   "source": [
    "def get_protein_graph(i):\n",
    "    atom_df = PandasPdb().read_pdb(i).df['ATOM']\n",
    "    node_feature = atom_df[['residue_number', 'occupancy', 'b_factor',]]\n",
    "    position = atom_df[['x_coord', 'y_coord', 'z_coord']]\n",
    "\n",
    "    mol = Chem.MolFromPDBFile(i)\n",
    "    atoms = [(atom.GetFormalCharge(), atom.GetHybridization()) for atom in mol.GetAtoms()]\n",
    "    nodes = pd.concat([pd.DataFrame(atoms), node_feature], axis=1)\n",
    "\n",
    "    atom_type = np.array([a.GetAtomicNum() for a in mol.GetAtoms()])\n",
    "\n",
    "    bonds = [(\n",
    "        bond.GetBeginAtomIdx(), bond.GetEndAtomIdx(), bond.GetBondType(), bond.GetStereo(), \n",
    "    ) for bond in mol.GetBonds()]\n",
    "    bonds = pd.DataFrame(bonds).values\n",
    "\n",
    "    edges = bonds[:, :2]\n",
    "    edges_attr = bonds[:, 2:]\n",
    "\n",
    "    node_features = torch.Tensor(nodes.values.astype(int))\n",
    "    atom_type = torch.Tensor(atom_type.astype(int))\n",
    "    edge_index = torch.tensor(edges, dtype=torch.long).t().contiguous()\n",
    "    edges_attr = torch.tensor(edges_attr, dtype=torch.long)\n",
    "    position = torch.tensor(position.values, dtype=torch.long)\n",
    "    data = Data(x=node_features, edge_index=edge_index, edge_attr=edges_attr, pos=position, atom_type=atom_type)\n",
    "\n",
    "    return data"
   ]
  },
  {
   "cell_type": "code",
   "execution_count": 6,
   "id": "f73c8405",
   "metadata": {},
   "outputs": [],
   "source": [
    "proteins = !ls ../pdb/"
   ]
  },
  {
   "cell_type": "code",
   "execution_count": 7,
   "id": "e6f380f1",
   "metadata": {},
   "outputs": [
    {
     "data": {
      "text/plain": [
       "9624"
      ]
     },
     "execution_count": 7,
     "metadata": {},
     "output_type": "execute_result"
    }
   ],
   "source": [
    "len(proteins)"
   ]
  },
  {
   "cell_type": "code",
   "execution_count": 5,
   "id": "16dab0d5",
   "metadata": {
    "scrolled": true
   },
   "outputs": [
    {
     "name": "stderr",
     "output_type": "stream",
     "text": [
      "[14:11:05] Explicit valence for atom # 17910 O, 3, is greater than permitted\n"
     ]
    },
    {
     "name": "stdout",
     "output_type": "stream",
     "text": [
      "###\n"
     ]
    },
    {
     "name": "stderr",
     "output_type": "stream",
     "text": [
      "[14:11:24] Explicit valence for atom # 1081 O, 3, is greater than permitted\n"
     ]
    },
    {
     "name": "stdout",
     "output_type": "stream",
     "text": [
      "###\n"
     ]
    },
    {
     "name": "stderr",
     "output_type": "stream",
     "text": [
      "[14:11:25] Explicit valence for atom # 7102 O, 3, is greater than permitted\n"
     ]
    },
    {
     "name": "stdout",
     "output_type": "stream",
     "text": [
      "###\n"
     ]
    },
    {
     "name": "stderr",
     "output_type": "stream",
     "text": [
      "[14:11:33] Explicit valence for atom # 1086 O, 3, is greater than permitted\n"
     ]
    },
    {
     "name": "stdout",
     "output_type": "stream",
     "text": [
      "###\n"
     ]
    },
    {
     "name": "stderr",
     "output_type": "stream",
     "text": [
      "[14:12:04] Explicit valence for atom # 2315 O, 3, is greater than permitted\n"
     ]
    },
    {
     "name": "stdout",
     "output_type": "stream",
     "text": [
      "###\n"
     ]
    },
    {
     "name": "stderr",
     "output_type": "stream",
     "text": [
      "[14:12:29] Explicit valence for atom # 1995 O, 3, is greater than permitted\n"
     ]
    },
    {
     "name": "stdout",
     "output_type": "stream",
     "text": [
      "###\n"
     ]
    },
    {
     "name": "stderr",
     "output_type": "stream",
     "text": [
      "[14:13:10] Explicit valence for atom # 5116 O, 3, is greater than permitted\n"
     ]
    },
    {
     "name": "stdout",
     "output_type": "stream",
     "text": [
      "###\n"
     ]
    },
    {
     "name": "stderr",
     "output_type": "stream",
     "text": [
      "[14:13:12] Explicit valence for atom # 1894 C, 6, is greater than permitted\n"
     ]
    },
    {
     "name": "stdout",
     "output_type": "stream",
     "text": [
      "###\n"
     ]
    },
    {
     "name": "stderr",
     "output_type": "stream",
     "text": [
      "[14:13:35] Explicit valence for atom # 563 O, 3, is greater than permitted\n"
     ]
    },
    {
     "name": "stdout",
     "output_type": "stream",
     "text": [
      "###\n"
     ]
    },
    {
     "name": "stderr",
     "output_type": "stream",
     "text": [
      "[14:13:38] Explicit valence for atom # 2569 O, 3, is greater than permitted\n"
     ]
    },
    {
     "name": "stdout",
     "output_type": "stream",
     "text": [
      "###\n"
     ]
    },
    {
     "name": "stderr",
     "output_type": "stream",
     "text": [
      "[14:15:45] Explicit valence for atom # 1075 O, 3, is greater than permitted\n"
     ]
    },
    {
     "name": "stdout",
     "output_type": "stream",
     "text": [
      "###\n"
     ]
    },
    {
     "name": "stderr",
     "output_type": "stream",
     "text": [
      "[14:15:53] Explicit valence for atom # 2956 O, 3, is greater than permitted\n"
     ]
    },
    {
     "name": "stdout",
     "output_type": "stream",
     "text": [
      "###\n"
     ]
    },
    {
     "name": "stderr",
     "output_type": "stream",
     "text": [
      "[14:16:45] Explicit valence for atom # 3146 O, 3, is greater than permitted\n"
     ]
    },
    {
     "name": "stdout",
     "output_type": "stream",
     "text": [
      "###\n"
     ]
    },
    {
     "name": "stderr",
     "output_type": "stream",
     "text": [
      "[14:17:04] Explicit valence for atom # 1157 O, 3, is greater than permitted\n"
     ]
    },
    {
     "name": "stdout",
     "output_type": "stream",
     "text": [
      "###\n"
     ]
    },
    {
     "name": "stderr",
     "output_type": "stream",
     "text": [
      "[14:17:09] Explicit valence for atom # 1001 O, 3, is greater than permitted\n"
     ]
    },
    {
     "name": "stdout",
     "output_type": "stream",
     "text": [
      "###\n"
     ]
    },
    {
     "name": "stderr",
     "output_type": "stream",
     "text": [
      "[14:17:18] Explicit valence for atom # 10837 O, 3, is greater than permitted\n"
     ]
    },
    {
     "name": "stdout",
     "output_type": "stream",
     "text": [
      "###\n"
     ]
    },
    {
     "name": "stderr",
     "output_type": "stream",
     "text": [
      "[14:17:53] Explicit valence for atom # 237 C, 6, is greater than permitted\n"
     ]
    },
    {
     "name": "stdout",
     "output_type": "stream",
     "text": [
      "###\n"
     ]
    },
    {
     "name": "stderr",
     "output_type": "stream",
     "text": [
      "[14:18:13] Explicit valence for atom # 5454 O, 3, is greater than permitted\n"
     ]
    },
    {
     "name": "stdout",
     "output_type": "stream",
     "text": [
      "###\n"
     ]
    },
    {
     "name": "stderr",
     "output_type": "stream",
     "text": [
      "[14:18:17] Explicit valence for atom # 477 O, 3, is greater than permitted\n"
     ]
    },
    {
     "name": "stdout",
     "output_type": "stream",
     "text": [
      "###\n"
     ]
    },
    {
     "name": "stderr",
     "output_type": "stream",
     "text": [
      "[14:18:22] Explicit valence for atom # 11378 O, 3, is greater than permitted\n"
     ]
    },
    {
     "name": "stdout",
     "output_type": "stream",
     "text": [
      "###\n"
     ]
    },
    {
     "name": "stderr",
     "output_type": "stream",
     "text": [
      "[14:18:32] Explicit valence for atom # 13417 O, 3, is greater than permitted\n"
     ]
    },
    {
     "name": "stdout",
     "output_type": "stream",
     "text": [
      "###\n"
     ]
    },
    {
     "name": "stderr",
     "output_type": "stream",
     "text": [
      "[14:19:01] Explicit valence for atom # 1891 O, 3, is greater than permitted\n"
     ]
    },
    {
     "name": "stdout",
     "output_type": "stream",
     "text": [
      "###\n"
     ]
    },
    {
     "name": "stderr",
     "output_type": "stream",
     "text": [
      "[14:19:36] Explicit valence for atom # 2705 O, 3, is greater than permitted\n"
     ]
    },
    {
     "name": "stdout",
     "output_type": "stream",
     "text": [
      "###\n"
     ]
    },
    {
     "name": "stderr",
     "output_type": "stream",
     "text": [
      "[14:19:39] Explicit valence for atom # 10334 O, 3, is greater than permitted\n"
     ]
    },
    {
     "name": "stdout",
     "output_type": "stream",
     "text": [
      "###\n"
     ]
    },
    {
     "name": "stderr",
     "output_type": "stream",
     "text": [
      "[14:19:53] Explicit valence for atom # 8959 O, 3, is greater than permitted\n"
     ]
    },
    {
     "name": "stdout",
     "output_type": "stream",
     "text": [
      "###\n"
     ]
    },
    {
     "name": "stderr",
     "output_type": "stream",
     "text": [
      "[14:20:51] Explicit valence for atom # 13252 O, 3, is greater than permitted\n"
     ]
    },
    {
     "name": "stdout",
     "output_type": "stream",
     "text": [
      "###\n"
     ]
    },
    {
     "name": "stderr",
     "output_type": "stream",
     "text": [
      "[14:21:07] Explicit valence for atom # 4617 O, 3, is greater than permitted\n"
     ]
    },
    {
     "name": "stdout",
     "output_type": "stream",
     "text": [
      "###\n"
     ]
    },
    {
     "name": "stderr",
     "output_type": "stream",
     "text": [
      "[14:22:28] Explicit valence for atom # 990 O, 3, is greater than permitted\n"
     ]
    },
    {
     "name": "stdout",
     "output_type": "stream",
     "text": [
      "###\n"
     ]
    },
    {
     "name": "stderr",
     "output_type": "stream",
     "text": [
      "[14:22:41] Explicit valence for atom # 4581 O, 3, is greater than permitted\n"
     ]
    },
    {
     "name": "stdout",
     "output_type": "stream",
     "text": [
      "###\n"
     ]
    },
    {
     "name": "stderr",
     "output_type": "stream",
     "text": [
      "[14:22:42] Explicit valence for atom # 13830 O, 3, is greater than permitted\n"
     ]
    },
    {
     "name": "stdout",
     "output_type": "stream",
     "text": [
      "###\n"
     ]
    },
    {
     "name": "stderr",
     "output_type": "stream",
     "text": [
      "[14:22:54] Explicit valence for atom # 2940 C, 5, is greater than permitted\n"
     ]
    },
    {
     "name": "stdout",
     "output_type": "stream",
     "text": [
      "###\n"
     ]
    },
    {
     "name": "stderr",
     "output_type": "stream",
     "text": [
      "[14:23:06] Explicit valence for atom # 3994 O, 3, is greater than permitted\n",
      "[14:23:06] Explicit valence for atom # 3849 O, 3, is greater than permitted\n"
     ]
    },
    {
     "name": "stdout",
     "output_type": "stream",
     "text": [
      "###\n",
      "###\n"
     ]
    },
    {
     "name": "stderr",
     "output_type": "stream",
     "text": [
      "[14:23:07] Explicit valence for atom # 9828 O, 3, is greater than permitted\n"
     ]
    },
    {
     "name": "stdout",
     "output_type": "stream",
     "text": [
      "###\n"
     ]
    },
    {
     "name": "stderr",
     "output_type": "stream",
     "text": [
      "[14:23:36] Explicit valence for atom # 15230 O, 3, is greater than permitted\n"
     ]
    },
    {
     "name": "stdout",
     "output_type": "stream",
     "text": [
      "###\n"
     ]
    },
    {
     "name": "stderr",
     "output_type": "stream",
     "text": [
      "[14:23:49] Explicit valence for atom # 244 O, 3, is greater than permitted\n"
     ]
    },
    {
     "name": "stdout",
     "output_type": "stream",
     "text": [
      "###\n"
     ]
    },
    {
     "name": "stderr",
     "output_type": "stream",
     "text": [
      "[14:23:53] Explicit valence for atom # 4825 O, 3, is greater than permitted\n"
     ]
    },
    {
     "name": "stdout",
     "output_type": "stream",
     "text": [
      "###\n"
     ]
    },
    {
     "name": "stderr",
     "output_type": "stream",
     "text": [
      "[14:24:25] Explicit valence for atom # 4981 O, 3, is greater than permitted\n"
     ]
    },
    {
     "name": "stdout",
     "output_type": "stream",
     "text": [
      "###\n"
     ]
    },
    {
     "name": "stderr",
     "output_type": "stream",
     "text": [
      "[14:24:46] Explicit valence for atom # 946 O, 3, is greater than permitted\n"
     ]
    },
    {
     "name": "stdout",
     "output_type": "stream",
     "text": [
      "###\n"
     ]
    },
    {
     "name": "stderr",
     "output_type": "stream",
     "text": [
      "[14:24:54] Explicit valence for atom # 4665 O, 3, is greater than permitted\n"
     ]
    },
    {
     "name": "stdout",
     "output_type": "stream",
     "text": [
      "###\n"
     ]
    },
    {
     "name": "stderr",
     "output_type": "stream",
     "text": [
      "[14:25:48] Explicit valence for atom # 6846 O, 3, is greater than permitted\n"
     ]
    },
    {
     "name": "stdout",
     "output_type": "stream",
     "text": [
      "###\n"
     ]
    },
    {
     "name": "stderr",
     "output_type": "stream",
     "text": [
      "[14:25:55] Explicit valence for atom # 534 O, 3, is greater than permitted\n"
     ]
    },
    {
     "name": "stdout",
     "output_type": "stream",
     "text": [
      "###\n"
     ]
    },
    {
     "name": "stderr",
     "output_type": "stream",
     "text": [
      "[14:26:44] Explicit valence for atom # 8737 O, 3, is greater than permitted\n"
     ]
    },
    {
     "name": "stdout",
     "output_type": "stream",
     "text": [
      "###\n"
     ]
    }
   ],
   "source": [
    "protein_graphs = {}\n",
    "errors = []\n",
    "for i in proteins:\n",
    "    try:\n",
    "        protein_graphs[i.split('.')[0]] = get_protein_graph('pdb/'+i)\n",
    "    except:\n",
    "        print('###')\n",
    "        errors.append(i)"
   ]
  },
  {
   "cell_type": "code",
   "execution_count": 9,
   "id": "391c9c8c",
   "metadata": {},
   "outputs": [],
   "source": [
    "tmp = get_protein_graph('../pdb/'+proteins[0])"
   ]
  },
  {
   "cell_type": "code",
   "execution_count": 10,
   "id": "a94557c3",
   "metadata": {},
   "outputs": [
    {
     "data": {
      "text/plain": [
       "Data(x=[1437, 5], edge_index=[2, 1467], edge_attr=[1467, 2], pos=[1437, 3], atom_type=[1437])"
      ]
     },
     "execution_count": 10,
     "metadata": {},
     "output_type": "execute_result"
    }
   ],
   "source": [
    "tmp"
   ]
  },
  {
   "cell_type": "code",
   "execution_count": null,
   "id": "9a3a2393",
   "metadata": {},
   "outputs": [],
   "source": []
  },
  {
   "cell_type": "code",
   "execution_count": null,
   "id": "cf4a7629",
   "metadata": {},
   "outputs": [],
   "source": []
  },
  {
   "cell_type": "code",
   "execution_count": 10,
   "id": "aec58fa1",
   "metadata": {},
   "outputs": [],
   "source": [
    "import numpy as np\n",
    "# !mkdir protein_graphs"
   ]
  },
  {
   "cell_type": "code",
   "execution_count": 11,
   "id": "fe71ea35",
   "metadata": {},
   "outputs": [],
   "source": [
    "for i in protein_graphs.keys():\n",
    "    torch.save(protein_graphs[i], 'protein_graphs/{}.pt'.format(i))"
   ]
  },
  {
   "cell_type": "code",
   "execution_count": null,
   "id": "640585f7",
   "metadata": {
    "scrolled": true
   },
   "outputs": [],
   "source": []
  },
  {
   "cell_type": "code",
   "execution_count": 15,
   "id": "31de53eb",
   "metadata": {},
   "outputs": [
    {
     "data": {
      "text/plain": [
       "Data(x=[1437, 5], edge_index=[2, 1467], edge_attr=[1467, 2], pos=[1437, 3], atom_type=[1437])"
      ]
     },
     "execution_count": 15,
     "metadata": {},
     "output_type": "execute_result"
    }
   ],
   "source": [
    "protein_graphs['A0A024RBG1']"
   ]
  },
  {
   "cell_type": "code",
   "execution_count": null,
   "id": "da443acb",
   "metadata": {},
   "outputs": [],
   "source": []
  }
 ],
 "metadata": {
  "kernelspec": {
   "display_name": "py310",
   "language": "python",
   "name": "py310"
  },
  "language_info": {
   "codemirror_mode": {
    "name": "ipython",
    "version": 3
   },
   "file_extension": ".py",
   "mimetype": "text/x-python",
   "name": "python",
   "nbconvert_exporter": "python",
   "pygments_lexer": "ipython3",
   "version": "3.10.13"
  }
 },
 "nbformat": 4,
 "nbformat_minor": 5
}
