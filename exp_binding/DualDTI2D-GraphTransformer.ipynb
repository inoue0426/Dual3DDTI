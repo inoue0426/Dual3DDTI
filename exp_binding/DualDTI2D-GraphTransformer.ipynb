{
 "cells": [
  {
   "cell_type": "code",
   "execution_count": 1,
   "id": "union-absolute",
   "metadata": {},
   "outputs": [],
   "source": [
    "import torch\n",
    "import torch.optim as optim\n",
    "import torch_geometric\n",
    "from torch.nn.functional import relu, sigmoid, softmax, mse_loss\n",
    "from torch.nn import Linear, Module, Dropout, MSELoss, CrossEntropyLoss, BatchNorm1d\n",
    "\n",
    "from tqdm import tqdm\n",
    "\n",
    "from torch_geometric.data import Data, DataLoader\n",
    "from torch_geometric.nn import GCNConv, global_mean_pool, GATv2Conv, TransformerConv\n",
    "from egnn_pytorch import EGNN\n",
    "\n",
    "import pandas as pd\n",
    "import numpy as np\n",
    "\n",
    "import os\n",
    "import pickle\n",
    "import gzip\n",
    "\n",
    "os.environ['XLA_PYTHON_CLIENT_PREALLOCATE'] = 'false'\n",
    "device = 0\n",
    "device = torch.device(\"cuda:{}\".format(device) if torch.cuda.is_available() else \"cpu\")"
   ]
  },
  {
   "cell_type": "code",
   "execution_count": 2,
   "id": "industrial-thomson",
   "metadata": {},
   "outputs": [],
   "source": [
    "class MultiHeadAttention(Module):\n",
    "    def __init__(self, hidden_dim, num_heads, dropout):\n",
    "        super(MultiHeadAttention, self).__init__()\n",
    "\n",
    "        self.hidden_dim = hidden_dim\n",
    "        self.num_heads = num_heads\n",
    "        assert hidden_dim % num_heads == 0\n",
    "\n",
    "        self.query_linear = Linear(hidden_dim, hidden_dim)\n",
    "        self.key_linear = Linear(hidden_dim, hidden_dim)\n",
    "        self.value_linear = Linear(hidden_dim, hidden_dim)\n",
    "\n",
    "        self.output_linear = Linear(hidden_dim, hidden_dim)\n",
    "        self.dropout = Dropout(dropout)\n",
    "\n",
    "        self.scale = torch.sqrt(torch.FloatTensor([hidden_dim // num_heads])).to(device)\n",
    "\n",
    "    def forward(self, query, key, value, mask=None):\n",
    "        batch_size = query.shape[0]\n",
    "\n",
    "        Q = self.query_linear(query)\n",
    "        K = self.key_linear(key)\n",
    "        V = self.value_linear(value)\n",
    "\n",
    "        Q = Q.view(batch_size, self.num_heads, -1, self.hidden_dim // self.num_heads)\n",
    "        K = K.view(batch_size, self.num_heads, -1, self.hidden_dim // self.num_heads)\n",
    "        V = V.view(batch_size, self.num_heads, -1, self.hidden_dim // self.num_heads)\n",
    "    \n",
    "        energy = torch.matmul(Q, K.transpose(-2, -1)) / self.scale\n",
    "        \n",
    "        if mask is not None:\n",
    "            energy = energy.masked_fill(mask == 0, -1e10)\n",
    "\n",
    "        attention = self.dropout(softmax(energy, dim=-1))\n",
    "\n",
    "        weighted_matrix = torch.matmul(attention, V)\n",
    "\n",
    "        weighted_matrix = weighted_matrix.permute(0, 2, 1, 3).contiguous()\n",
    "        weighted_matrix = weighted_matrix.view(batch_size, -1, self.hidden_dim)\n",
    "#         weighted_matrix = weighted_matrix.mean(dim=1)\n",
    "#         weighted_matrix = torch.max(weighted_matrix, dim=1)\n",
    "        weighted_matrix = weighted_matrix[:, 0, :]\n",
    "\n",
    "        output = self.output_linear(weighted_matrix)\n",
    "\n",
    "        return output"
   ]
  },
  {
   "cell_type": "code",
   "execution_count": 3,
   "id": "lined-contrary",
   "metadata": {},
   "outputs": [],
   "source": [
    "class DrugEncoder(torch.nn.Module):\n",
    "    def __init__(self, num_node_features, num_emb):\n",
    "        super(DrugEncoder, self).__init__()\n",
    "        self.conv1 = TransformerConv(num_node_features, 16)\n",
    "        self.conv2 = TransformerConv(16, num_emb)\n",
    "\n",
    "    def forward(self, data):\n",
    "        x, edge_index, edge_attr, batch = data.x, data.edge_index, data.edge_attr, data.batch\n",
    "\n",
    "        x = self.conv1(x, edge_index)\n",
    "        x = torch.relu(x)\n",
    "        x = self.conv2(x, edge_index)\n",
    "        x = global_mean_pool(x, batch)\n",
    "        return x"
   ]
  },
  {
   "cell_type": "code",
   "execution_count": 4,
   "id": "complicated-shareware",
   "metadata": {},
   "outputs": [],
   "source": [
    "class ProteinEncoder(torch.nn.Module):\n",
    "    def __init__(self, num_node_features, num_emb):\n",
    "        super(ProteinEncoder, self).__init__()\n",
    "        self.conv1 = TransformerConv(num_node_features, 16)\n",
    "        self.conv2 = TransformerConv(16, num_emb)\n",
    "\n",
    "    def forward(self, data):\n",
    "        x, edge_index, edge_attr, batch = data.x, data.edge_index, data.edge_attr, data.batch\n",
    "\n",
    "        x = self.conv1(x, edge_index)\n",
    "        x = torch.relu(x)\n",
    "        x = self.conv2(x, edge_index)\n",
    "        x = global_mean_pool(x, batch)\n",
    "        return x"
   ]
  },
  {
   "cell_type": "code",
   "execution_count": 5,
   "id": "committed-pastor",
   "metadata": {},
   "outputs": [],
   "source": [
    "class DTIPredictor(Module):\n",
    "    def __init__(self, drug_encoder, protein_encoder, hidden_dim=100, num_heads=4, dropout=0.2):\n",
    "        super().__init__()\n",
    "        self.drug_encoder = DrugEncoder(5, 100)\n",
    "        self.protein_encoder = ProteinEncoder(5, 100)\n",
    "        self.attention = MultiHeadAttention(hidden_dim, num_heads, dropout)\n",
    "        self.fc_output = Linear(hidden_dim*3, 1)\n",
    "\n",
    "    def forward(self, drug_data, protein_data):\n",
    "        x_drug = self.drug_encoder(drug_data)\n",
    "        x_protein = self.protein_encoder(protein_data)\n",
    "        attention_output = self.attention(x_drug, x_protein, x_protein)\n",
    "\n",
    "        feature = torch.cat((x_drug, attention_output, x_protein), dim=1)\n",
    "        prediction = self.fc_output(feature)\n",
    "\n",
    "        return (prediction).squeeze(1)"
   ]
  },
  {
   "cell_type": "code",
   "execution_count": 6,
   "id": "cleared-youth",
   "metadata": {},
   "outputs": [],
   "source": [
    "train = pd.read_csv('kiba/train.csv', index_col=0)\n",
    "val = pd.read_csv('kiba/val.csv', index_col=0)\n",
    "test = pd.read_csv('kiba/test.csv', index_col=0)"
   ]
  },
  {
   "cell_type": "code",
   "execution_count": 7,
   "id": "industrial-joseph",
   "metadata": {},
   "outputs": [
    {
     "name": "stdout",
     "output_type": "stream",
     "text": [
      "Train dim: (3449, 3)\n",
      "val dim: (494, 3)\n",
      "test dim: (973, 3)\n"
     ]
    }
   ],
   "source": [
    "print('Train dim:', train.shape)\n",
    "print('val dim:', val.shape)\n",
    "print('test dim:', test.shape)"
   ]
  },
  {
   "cell_type": "code",
   "execution_count": 8,
   "id": "modern-grade",
   "metadata": {},
   "outputs": [],
   "source": [
    "with gzip.open('drug.pkl.gz', 'rb') as f:\n",
    "    drug = pickle.load(f)\n",
    "\n",
    "def get_drug_dataloader(drugs, batch_size=100):\n",
    "    dataset = [drug[i] for i in drugs]\n",
    "    return DataLoader(dataset, batch_size=batch_size)\n",
    "\n",
    "def get_protein_dataloader(proteins, batch_size=100):\n",
    "    dataset = [torch.load('protein_graphs/{}.pt'.format(i)) for i in proteins]\n",
    "    return DataLoader(dataset, batch_size=batch_size)"
   ]
  },
  {
   "cell_type": "code",
   "execution_count": 9,
   "id": "spoken-motivation",
   "metadata": {},
   "outputs": [
    {
     "name": "stderr",
     "output_type": "stream",
     "text": [
      "/export/scratch/inoue019/envs/gpu1/lib/python3.10/site-packages/torch_geometric/deprecation.py:22: UserWarning: 'data.DataLoader' is deprecated, use 'loader.DataLoader' instead\n",
      "  warnings.warn(out)\n"
     ]
    }
   ],
   "source": [
    "batch_size = 100\n",
    "drug_train_loader = get_drug_dataloader(train['Drug'], batch_size)\n",
    "drug_val_loader = get_drug_dataloader(val['Drug'], batch_size)\n",
    "drug_test_loader = get_drug_dataloader(test['Drug'], batch_size)\n",
    "\n",
    "protein_train_loader = get_protein_dataloader(train['Target_ID'], batch_size)\n",
    "protein_val_loader = get_protein_dataloader(val['Target_ID'], batch_size)\n",
    "protein_test_loader = get_protein_dataloader(test['Target_ID'], batch_size)\n",
    "\n",
    "train_y = DataLoader(torch.Tensor(train['Y'].values).float(), batch_size=batch_size)\n",
    "val_y = DataLoader(torch.Tensor(val['Y'].values).float(), batch_size=batch_size)\n",
    "test_y = DataLoader(torch.Tensor(test['Y'].values).float(), batch_size=batch_size)"
   ]
  },
  {
   "cell_type": "code",
   "execution_count": 10,
   "id": "dependent-state",
   "metadata": {
    "scrolled": false
   },
   "outputs": [
    {
     "name": "stderr",
     "output_type": "stream",
     "text": [
      " 10%|█         | 1/10 [00:03<00:32,  3.56s/it]"
     ]
    },
    {
     "name": "stdout",
     "output_type": "stream",
     "text": [
      "Epoch: 1, Train loss: 1558.7012, Validation Loss: 77.3964\n"
     ]
    },
    {
     "name": "stderr",
     "output_type": "stream",
     "text": [
      "\r",
      " 20%|██        | 2/10 [00:06<00:25,  3.25s/it]"
     ]
    },
    {
     "name": "stdout",
     "output_type": "stream",
     "text": [
      "Epoch: 2, Train loss: 16.4209, Validation Loss: 2.1315\n"
     ]
    },
    {
     "name": "stderr",
     "output_type": "stream",
     "text": [
      "\r",
      " 30%|███       | 3/10 [00:09<00:21,  3.12s/it]"
     ]
    },
    {
     "name": "stdout",
     "output_type": "stream",
     "text": [
      "Epoch: 3, Train loss: 2.0076, Validation Loss: 1.7762\n"
     ]
    },
    {
     "name": "stderr",
     "output_type": "stream",
     "text": [
      "\r",
      " 40%|████      | 4/10 [00:12<00:18,  3.05s/it]"
     ]
    },
    {
     "name": "stdout",
     "output_type": "stream",
     "text": [
      "Epoch: 4, Train loss: 1.6354, Validation Loss: 1.4202\n"
     ]
    },
    {
     "name": "stderr",
     "output_type": "stream",
     "text": [
      "\r",
      " 50%|█████     | 5/10 [00:15<00:15,  3.02s/it]"
     ]
    },
    {
     "name": "stdout",
     "output_type": "stream",
     "text": [
      "Epoch: 5, Train loss: 1.4502, Validation Loss: 1.3100\n"
     ]
    },
    {
     "name": "stderr",
     "output_type": "stream",
     "text": [
      "\r",
      " 60%|██████    | 6/10 [00:18<00:12,  3.01s/it]"
     ]
    },
    {
     "name": "stdout",
     "output_type": "stream",
     "text": [
      "Epoch: 6, Train loss: 1.3502, Validation Loss: 1.2633\n"
     ]
    },
    {
     "name": "stderr",
     "output_type": "stream",
     "text": [
      "\r",
      " 70%|███████   | 7/10 [00:21<00:09,  3.01s/it]"
     ]
    },
    {
     "name": "stdout",
     "output_type": "stream",
     "text": [
      "Epoch: 7, Train loss: 1.2433, Validation Loss: 1.2174\n"
     ]
    },
    {
     "name": "stderr",
     "output_type": "stream",
     "text": [
      "\r",
      " 80%|████████  | 8/10 [00:24<00:06,  3.01s/it]"
     ]
    },
    {
     "name": "stdout",
     "output_type": "stream",
     "text": [
      "Epoch: 8, Train loss: 1.1826, Validation Loss: 1.2148\n"
     ]
    },
    {
     "name": "stderr",
     "output_type": "stream",
     "text": [
      "\r",
      " 90%|█████████ | 9/10 [00:27<00:02,  3.00s/it]"
     ]
    },
    {
     "name": "stdout",
     "output_type": "stream",
     "text": [
      "Epoch: 9, Train loss: 1.1511, Validation Loss: 1.2463\n"
     ]
    },
    {
     "name": "stderr",
     "output_type": "stream",
     "text": [
      "100%|██████████| 10/10 [00:30<00:00,  3.04s/it]"
     ]
    },
    {
     "name": "stdout",
     "output_type": "stream",
     "text": [
      "Epoch: 10, Train loss: 1.0933, Validation Loss: 1.2509\n"
     ]
    },
    {
     "name": "stderr",
     "output_type": "stream",
     "text": [
      "\n"
     ]
    }
   ],
   "source": [
    "model = DTIPredictor(DrugEncoder, ProteinEncoder).to(device)\n",
    "criterion = MSELoss().to(device)\n",
    "optimizer = getattr(torch.optim, \"Adam\")(model.parameters(), lr=0.01,)\n",
    "\n",
    "train_losses = []\n",
    "train_accs = []\n",
    "val_losses = []\n",
    "val_accs = []\n",
    "\n",
    "for epoch in tqdm(range(10)):\n",
    "\n",
    "    model.train()\n",
    "    total_loss = 0\n",
    "    for drug, protein, true_y in zip(drug_train_loader, protein_train_loader, train_y):\n",
    "        drug = drug.to(device)\n",
    "        protein = protein.to(device)\n",
    "        true_y = true_y.to(device)\n",
    "        \n",
    "        optimizer.zero_grad()\n",
    "        \n",
    "        output = model(drug, protein)\n",
    "        loss = criterion(output, true_y)\n",
    "        loss.backward()\n",
    "        optimizer.step()\n",
    "        total_loss += loss.item()\n",
    "        \n",
    "    average_loss = total_loss / len(drug_train_loader)\n",
    "    train_losses.append(average_loss)\n",
    "    \n",
    "    model.eval()\n",
    "    with torch.no_grad():\n",
    "        val_loss = 0\n",
    "        for drug, protein, true_y in zip(drug_val_loader, protein_val_loader, val_y):\n",
    "            drug = drug.to(device)\n",
    "            protein = protein.to(device)\n",
    "            true_y = true_y.to(device)            \n",
    "            \n",
    "            output = model(drug, protein)\n",
    "            loss = criterion(output, true_y)\n",
    "            val_loss += loss.item()\n",
    "            val_losses.append(val_loss)\n",
    "\n",
    "        average_val_loss = val_loss / len(drug_val_loader)\n",
    "        val_losses.append(average_val_loss)\n",
    "    print(f'Epoch: {epoch+1}, Train loss: {average_loss:.4f}, Validation Loss: {average_val_loss:.4f}')"
   ]
  },
  {
   "cell_type": "code",
   "execution_count": 11,
   "id": "innocent-stuff",
   "metadata": {},
   "outputs": [],
   "source": [
    "model.eval()\n",
    "pred = []\n",
    "with torch.no_grad():\n",
    "    test_loss = 0\n",
    "    for drug, protein, true_y in zip(drug_test_loader, protein_test_loader, test_y):\n",
    "        drug = drug.to(device)\n",
    "        protein = protein.to(device)\n",
    "        true_y = true_y.to(device)            \n",
    "\n",
    "        output = model(drug, protein)\n",
    "        loss = criterion(output, true_y)\n",
    "        test_loss += loss.item()\n",
    "        pred.append(output.cpu().detach().numpy()) \n",
    "        \n",
    "pred = np.concatenate(pred)"
   ]
  },
  {
   "cell_type": "code",
   "execution_count": 12,
   "id": "equivalent-kinase",
   "metadata": {},
   "outputs": [
    {
     "data": {
      "text/plain": [
       "tensor(1.1263)"
      ]
     },
     "execution_count": 12,
     "metadata": {},
     "output_type": "execute_result"
    }
   ],
   "source": [
    "mse_loss(torch.Tensor(pred), torch.Tensor(np.array(test['Y'])))"
   ]
  },
  {
   "cell_type": "code",
   "execution_count": null,
   "id": "accessory-president",
   "metadata": {},
   "outputs": [],
   "source": []
  },
  {
   "cell_type": "code",
   "execution_count": null,
   "id": "determined-spotlight",
   "metadata": {},
   "outputs": [],
   "source": []
  },
  {
   "cell_type": "code",
   "execution_count": null,
   "id": "cheap-access",
   "metadata": {},
   "outputs": [],
   "source": []
  },
  {
   "cell_type": "code",
   "execution_count": null,
   "id": "coordinated-sunglasses",
   "metadata": {},
   "outputs": [],
   "source": []
  },
  {
   "cell_type": "code",
   "execution_count": null,
   "id": "protecting-johnson",
   "metadata": {},
   "outputs": [],
   "source": []
  },
  {
   "cell_type": "code",
   "execution_count": null,
   "id": "norwegian-actress",
   "metadata": {},
   "outputs": [],
   "source": []
  },
  {
   "cell_type": "code",
   "execution_count": null,
   "id": "material-advance",
   "metadata": {},
   "outputs": [],
   "source": []
  },
  {
   "cell_type": "code",
   "execution_count": null,
   "id": "married-relevance",
   "metadata": {},
   "outputs": [],
   "source": []
  },
  {
   "cell_type": "code",
   "execution_count": null,
   "id": "silent-presentation",
   "metadata": {},
   "outputs": [],
   "source": []
  }
 ],
 "metadata": {
  "kernelspec": {
   "display_name": "py39",
   "language": "python",
   "name": "py39"
  },
  "language_info": {
   "codemirror_mode": {
    "name": "ipython",
    "version": 3
   },
   "file_extension": ".py",
   "mimetype": "text/x-python",
   "name": "python",
   "nbconvert_exporter": "python",
   "pygments_lexer": "ipython3",
   "version": "3.9.17"
  }
 },
 "nbformat": 4,
 "nbformat_minor": 5
}
